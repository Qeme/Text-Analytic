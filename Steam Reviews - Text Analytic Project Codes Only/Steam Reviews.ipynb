{
 "cells": [
  {
   "cell_type": "code",
   "execution_count": 1,
   "id": "f6674231",
   "metadata": {},
   "outputs": [
    {
     "name": "stdout",
     "output_type": "stream",
     "text": [
      "Requirement already satisfied: steamreviews in e:\\anaconda\\lib\\site-packages (0.9.5)\n",
      "Requirement already satisfied: requests in e:\\anaconda\\lib\\site-packages (from steamreviews) (2.31.0)\n",
      "Requirement already satisfied: charset-normalizer<4,>=2 in e:\\anaconda\\lib\\site-packages (from requests->steamreviews) (2.0.4)\n",
      "Requirement already satisfied: idna<4,>=2.5 in e:\\anaconda\\lib\\site-packages (from requests->steamreviews) (3.4)\n",
      "Requirement already satisfied: urllib3<3,>=1.21.1 in e:\\anaconda\\lib\\site-packages (from requests->steamreviews) (1.26.16)\n",
      "Requirement already satisfied: certifi>=2017.4.17 in e:\\anaconda\\lib\\site-packages (from requests->steamreviews) (2024.2.2)\n",
      "Note: you may need to restart the kernel to use updated packages.\n"
     ]
    }
   ],
   "source": [
    "pip install steamreviews"
   ]
  },
  {
   "cell_type": "code",
   "execution_count": 2,
   "id": "b5fc0c26",
   "metadata": {},
   "outputs": [],
   "source": [
    "#import the library\n",
    "import steamreviews"
   ]
  },
  {
   "cell_type": "code",
   "execution_count": 3,
   "id": "728f039e",
   "metadata": {},
   "outputs": [],
   "source": [
    "#list out the appid for each games\n",
    "# app_ids = [1245620, 553850, 1846380] #csgo 2 , helldivers 2, need for speed unbound"
   ]
  },
  {
   "cell_type": "code",
   "execution_count": 4,
   "id": "8ab6d00a",
   "metadata": {},
   "outputs": [],
   "source": [
    "# #download all the reviews for each of the app_ids\n",
    "# steamreviews.download_reviews_for_app_id_batch(app_ids)"
   ]
  },
  {
   "cell_type": "code",
   "execution_count": 5,
   "id": "b736ae08",
   "metadata": {},
   "outputs": [
    {
     "name": "stdout",
     "output_type": "stream",
     "text": [
      "[appID = 1245620] expected #reviews = 817333\n",
      "Number of queries 150 reached. Cooldown: 310 seconds\n",
      "Number of queries 150 reached. Cooldown: 310 seconds\n",
      "Number of queries 150 reached. Cooldown: 310 seconds\n",
      "Number of queries 150 reached. Cooldown: 310 seconds\n",
      "Number of queries 150 reached. Cooldown: 310 seconds\n",
      "Number of queries 150 reached. Cooldown: 310 seconds\n",
      "Number of queries 150 reached. Cooldown: 310 seconds\n",
      "Number of queries 150 reached. Cooldown: 310 seconds\n",
      "Number of queries 150 reached. Cooldown: 310 seconds\n"
     ]
    }
   ],
   "source": [
    "request_params = dict()\n",
    "# Reference: https://partner.steamgames.com/doc/store/getreviews\n",
    "request_params['filter'] = 'recent'  # reviews are sorted by helpfulness instead of chronology\n",
    "request_params['day_range'] = '336'  # focus on reviews which were published during the past 28days -> four weeks\n",
    "\n",
    "app_id = 1245620\n",
    "review_dict, query_count = steamreviews.download_reviews_for_app_id(app_id,\n",
    "                                                                    chosen_request_params=request_params)"
   ]
  },
  {
   "cell_type": "code",
   "execution_count": 6,
   "id": "cbbfd583",
   "metadata": {},
   "outputs": [
    {
     "name": "stdout",
     "output_type": "stream",
     "text": [
      "146720\n"
     ]
    }
   ],
   "source": [
    "print(len(review_dict['reviews']))"
   ]
  },
  {
   "cell_type": "code",
   "execution_count": 7,
   "id": "8e1ca3a1",
   "metadata": {},
   "outputs": [
    {
     "name": "stdout",
     "output_type": "stream",
     "text": [
      "[appID = 553850] expected #reviews = 866389\n",
      "Number of queries 150 reached. Cooldown: 310 seconds\n",
      "Number of queries 150 reached. Cooldown: 310 seconds\n",
      "Number of queries 150 reached. Cooldown: 310 seconds\n",
      "Number of queries 150 reached. Cooldown: 310 seconds\n",
      "Number of queries 150 reached. Cooldown: 310 seconds\n",
      "Number of queries 150 reached. Cooldown: 310 seconds\n",
      "Number of queries 150 reached. Cooldown: 310 seconds\n",
      "Number of queries 150 reached. Cooldown: 310 seconds\n",
      "Number of queries 150 reached. Cooldown: 310 seconds\n",
      "Number of queries 150 reached. Cooldown: 310 seconds\n",
      "Number of queries 150 reached. Cooldown: 310 seconds\n",
      "Number of queries 150 reached. Cooldown: 310 seconds\n",
      "Number of queries 150 reached. Cooldown: 310 seconds\n",
      "Number of queries 150 reached. Cooldown: 310 seconds\n",
      "Number of queries 150 reached. Cooldown: 310 seconds\n",
      "Number of queries 150 reached. Cooldown: 310 seconds\n",
      "Number of queries 150 reached. Cooldown: 310 seconds\n",
      "Number of queries 150 reached. Cooldown: 310 seconds\n",
      "Number of queries 150 reached. Cooldown: 310 seconds\n",
      "Number of queries 150 reached. Cooldown: 310 seconds\n",
      "Number of queries 150 reached. Cooldown: 310 seconds\n",
      "Number of queries 150 reached. Cooldown: 310 seconds\n",
      "Number of queries 150 reached. Cooldown: 310 seconds\n",
      "Number of queries 150 reached. Cooldown: 310 seconds\n",
      "Number of queries 150 reached. Cooldown: 310 seconds\n",
      "Number of queries 150 reached. Cooldown: 310 seconds\n",
      "Number of queries 150 reached. Cooldown: 310 seconds\n",
      "Number of queries 150 reached. Cooldown: 310 seconds\n",
      "Number of queries 150 reached. Cooldown: 310 seconds\n",
      "Number of queries 150 reached. Cooldown: 310 seconds\n",
      "Number of queries 150 reached. Cooldown: 310 seconds\n",
      "Number of queries 150 reached. Cooldown: 310 seconds\n",
      "Number of queries 150 reached. Cooldown: 310 seconds\n",
      "Number of queries 150 reached. Cooldown: 310 seconds\n",
      "Number of queries 150 reached. Cooldown: 310 seconds\n",
      "Number of queries 150 reached. Cooldown: 310 seconds\n",
      "Number of queries 150 reached. Cooldown: 310 seconds\n",
      "Number of queries 150 reached. Cooldown: 310 seconds\n",
      "Number of queries 150 reached. Cooldown: 310 seconds\n",
      "Number of queries 150 reached. Cooldown: 310 seconds\n",
      "Number of queries 150 reached. Cooldown: 310 seconds\n",
      "Number of queries 150 reached. Cooldown: 310 seconds\n",
      "Number of queries 150 reached. Cooldown: 310 seconds\n",
      "Number of queries 150 reached. Cooldown: 310 seconds\n",
      "Number of queries 150 reached. Cooldown: 310 seconds\n",
      "Number of queries 150 reached. Cooldown: 310 seconds\n",
      "Number of queries 150 reached. Cooldown: 310 seconds\n",
      "Number of queries 150 reached. Cooldown: 310 seconds\n",
      "Number of queries 150 reached. Cooldown: 310 seconds\n",
      "Number of queries 150 reached. Cooldown: 310 seconds\n",
      "Number of queries 150 reached. Cooldown: 310 seconds\n",
      "Number of queries 150 reached. Cooldown: 310 seconds\n",
      "Number of queries 150 reached. Cooldown: 310 seconds\n",
      "Number of queries 150 reached. Cooldown: 310 seconds\n",
      "Number of queries 150 reached. Cooldown: 310 seconds\n",
      "Number of queries 150 reached. Cooldown: 310 seconds\n",
      "Number of queries 150 reached. Cooldown: 310 seconds\n"
     ]
    }
   ],
   "source": [
    "app_id = 553850\n",
    "review_dict, query_count = steamreviews.download_reviews_for_app_id(app_id,\n",
    "                                                                    chosen_request_params=request_params)"
   ]
  },
  {
   "cell_type": "code",
   "execution_count": 8,
   "id": "ed5c52db",
   "metadata": {},
   "outputs": [
    {
     "name": "stdout",
     "output_type": "stream",
     "text": [
      "866448\n"
     ]
    }
   ],
   "source": [
    "print(len(review_dict['reviews']))"
   ]
  },
  {
   "cell_type": "code",
   "execution_count": 9,
   "id": "aaf36f0e",
   "metadata": {},
   "outputs": [
    {
     "name": "stdout",
     "output_type": "stream",
     "text": [
      "[appID = 1846380] expected #reviews = 34085\n",
      "Number of queries 150 reached. Cooldown: 310 seconds\n"
     ]
    }
   ],
   "source": [
    "app_id = 1846380\n",
    "review_dict, query_count = steamreviews.download_reviews_for_app_id(app_id,\n",
    "                                                                    chosen_request_params=request_params)"
   ]
  },
  {
   "cell_type": "code",
   "execution_count": 10,
   "id": "673691a8",
   "metadata": {},
   "outputs": [
    {
     "name": "stdout",
     "output_type": "stream",
     "text": [
      "19224\n"
     ]
    }
   ],
   "source": [
    "print(len(review_dict['reviews']))"
   ]
  }
 ],
 "metadata": {
  "kernelspec": {
   "display_name": "Python 3 (ipykernel)",
   "language": "python",
   "name": "python3"
  },
  "language_info": {
   "codemirror_mode": {
    "name": "ipython",
    "version": 3
   },
   "file_extension": ".py",
   "mimetype": "text/x-python",
   "name": "python",
   "nbconvert_exporter": "python",
   "pygments_lexer": "ipython3",
   "version": "3.11.5"
  }
 },
 "nbformat": 4,
 "nbformat_minor": 5
}
