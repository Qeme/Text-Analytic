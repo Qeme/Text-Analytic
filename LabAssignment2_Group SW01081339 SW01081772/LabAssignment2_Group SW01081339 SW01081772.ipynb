{
 "cells": [
  {
   "cell_type": "markdown",
   "id": "f18de164",
   "metadata": {},
   "source": [
    "# Task 1\n",
    "### P1: Wan Muhammad Luqman Bin Wan Azinuddin (SW01081339)\n",
    "### P2: Muhammad Aflahul Wafi Bin Amalik (SW01081772)\n",
    "### Section: 01B"
   ]
  },
  {
   "cell_type": "markdown",
   "id": "bae73928",
   "metadata": {},
   "source": [
    "# Read Source Data"
   ]
  },
  {
   "cell_type": "code",
   "execution_count": 1,
   "id": "f00782ac",
   "metadata": {},
   "outputs": [],
   "source": [
    "# import library\n",
    "import pandas as pd"
   ]
  },
  {
   "cell_type": "code",
   "execution_count": 2,
   "id": "e796b9ff",
   "metadata": {},
   "outputs": [],
   "source": [
    "# read data - first 1000 rows\n",
    "data = pd.read_csv(\"Reviews.csv\", nrows=10000)"
   ]
  },
  {
   "cell_type": "code",
   "execution_count": 3,
   "id": "ddb84c1c",
   "metadata": {},
   "outputs": [
    {
     "data": {
      "text/html": [
       "<div>\n",
       "<style scoped>\n",
       "    .dataframe tbody tr th:only-of-type {\n",
       "        vertical-align: middle;\n",
       "    }\n",
       "\n",
       "    .dataframe tbody tr th {\n",
       "        vertical-align: top;\n",
       "    }\n",
       "\n",
       "    .dataframe thead th {\n",
       "        text-align: right;\n",
       "    }\n",
       "</style>\n",
       "<table border=\"1\" class=\"dataframe\">\n",
       "  <thead>\n",
       "    <tr style=\"text-align: right;\">\n",
       "      <th></th>\n",
       "      <th>Id</th>\n",
       "      <th>ProductId</th>\n",
       "      <th>UserId</th>\n",
       "      <th>ProfileName</th>\n",
       "      <th>HelpfulnessNumerator</th>\n",
       "      <th>HelpfulnessDenominator</th>\n",
       "      <th>Score</th>\n",
       "      <th>Time</th>\n",
       "      <th>Summary</th>\n",
       "      <th>Text</th>\n",
       "    </tr>\n",
       "  </thead>\n",
       "  <tbody>\n",
       "    <tr>\n",
       "      <th>0</th>\n",
       "      <td>1</td>\n",
       "      <td>B001E4KFG0</td>\n",
       "      <td>A3SGXH7AUHU8GW</td>\n",
       "      <td>delmartian</td>\n",
       "      <td>1</td>\n",
       "      <td>1</td>\n",
       "      <td>5</td>\n",
       "      <td>1303862400</td>\n",
       "      <td>Good Quality Dog Food</td>\n",
       "      <td>I have bought several of the Vitality canned d...</td>\n",
       "    </tr>\n",
       "    <tr>\n",
       "      <th>1</th>\n",
       "      <td>2</td>\n",
       "      <td>B00813GRG4</td>\n",
       "      <td>A1D87F6ZCVE5NK</td>\n",
       "      <td>dll pa</td>\n",
       "      <td>0</td>\n",
       "      <td>0</td>\n",
       "      <td>1</td>\n",
       "      <td>1346976000</td>\n",
       "      <td>Not as Advertised</td>\n",
       "      <td>Product arrived labeled as Jumbo Salted Peanut...</td>\n",
       "    </tr>\n",
       "    <tr>\n",
       "      <th>2</th>\n",
       "      <td>3</td>\n",
       "      <td>B000LQOCH0</td>\n",
       "      <td>ABXLMWJIXXAIN</td>\n",
       "      <td>Natalia Corres \"Natalia Corres\"</td>\n",
       "      <td>1</td>\n",
       "      <td>1</td>\n",
       "      <td>4</td>\n",
       "      <td>1219017600</td>\n",
       "      <td>\"Delight\" says it all</td>\n",
       "      <td>This is a confection that has been around a fe...</td>\n",
       "    </tr>\n",
       "    <tr>\n",
       "      <th>3</th>\n",
       "      <td>4</td>\n",
       "      <td>B000UA0QIQ</td>\n",
       "      <td>A395BORC6FGVXV</td>\n",
       "      <td>Karl</td>\n",
       "      <td>3</td>\n",
       "      <td>3</td>\n",
       "      <td>2</td>\n",
       "      <td>1307923200</td>\n",
       "      <td>Cough Medicine</td>\n",
       "      <td>If you are looking for the secret ingredient i...</td>\n",
       "    </tr>\n",
       "    <tr>\n",
       "      <th>4</th>\n",
       "      <td>5</td>\n",
       "      <td>B006K2ZZ7K</td>\n",
       "      <td>A1UQRSCLF8GW1T</td>\n",
       "      <td>Michael D. Bigham \"M. Wassir\"</td>\n",
       "      <td>0</td>\n",
       "      <td>0</td>\n",
       "      <td>5</td>\n",
       "      <td>1350777600</td>\n",
       "      <td>Great taffy</td>\n",
       "      <td>Great taffy at a great price.  There was a wid...</td>\n",
       "    </tr>\n",
       "  </tbody>\n",
       "</table>\n",
       "</div>"
      ],
      "text/plain": [
       "   Id   ProductId          UserId                      ProfileName  \\\n",
       "0   1  B001E4KFG0  A3SGXH7AUHU8GW                       delmartian   \n",
       "1   2  B00813GRG4  A1D87F6ZCVE5NK                           dll pa   \n",
       "2   3  B000LQOCH0   ABXLMWJIXXAIN  Natalia Corres \"Natalia Corres\"   \n",
       "3   4  B000UA0QIQ  A395BORC6FGVXV                             Karl   \n",
       "4   5  B006K2ZZ7K  A1UQRSCLF8GW1T    Michael D. Bigham \"M. Wassir\"   \n",
       "\n",
       "   HelpfulnessNumerator  HelpfulnessDenominator  Score        Time  \\\n",
       "0                     1                       1      5  1303862400   \n",
       "1                     0                       0      1  1346976000   \n",
       "2                     1                       1      4  1219017600   \n",
       "3                     3                       3      2  1307923200   \n",
       "4                     0                       0      5  1350777600   \n",
       "\n",
       "                 Summary                                               Text  \n",
       "0  Good Quality Dog Food  I have bought several of the Vitality canned d...  \n",
       "1      Not as Advertised  Product arrived labeled as Jumbo Salted Peanut...  \n",
       "2  \"Delight\" says it all  This is a confection that has been around a fe...  \n",
       "3         Cough Medicine  If you are looking for the secret ingredient i...  \n",
       "4            Great taffy  Great taffy at a great price.  There was a wid...  "
      ]
     },
     "execution_count": 3,
     "metadata": {},
     "output_type": "execute_result"
    }
   ],
   "source": [
    "# check first 5 rows\n",
    "data.head()"
   ]
  },
  {
   "cell_type": "code",
   "execution_count": 4,
   "id": "36404705",
   "metadata": {},
   "outputs": [
    {
     "data": {
      "text/plain": [
       "(10000, 10)"
      ]
     },
     "execution_count": 4,
     "metadata": {},
     "output_type": "execute_result"
    }
   ],
   "source": [
    "# check no. of rows & columns\n",
    "data.shape"
   ]
  },
  {
   "cell_type": "markdown",
   "id": "fa2d7086",
   "metadata": {},
   "source": [
    "# Remove Duplicates"
   ]
  },
  {
   "cell_type": "code",
   "execution_count": 5,
   "id": "d417c082",
   "metadata": {},
   "outputs": [
    {
     "data": {
      "text/plain": [
       "0    I have bought several of the Vitality canned d...\n",
       "1    Product arrived labeled as Jumbo Salted Peanut...\n",
       "2    This is a confection that has been around a fe...\n",
       "3    If you are looking for the secret ingredient i...\n",
       "4    Great taffy at a great price.  There was a wid...\n",
       "Name: Text, dtype: object"
      ]
     },
     "execution_count": 5,
     "metadata": {},
     "output_type": "execute_result"
    }
   ],
   "source": [
    "# select Text column\n",
    "data_t = data['Text']\n",
    "data_t.head()"
   ]
  },
  {
   "cell_type": "code",
   "execution_count": 6,
   "id": "495ed4c1",
   "metadata": {},
   "outputs": [
    {
     "name": "stdout",
     "output_type": "stream",
     "text": [
      "487\n"
     ]
    }
   ],
   "source": [
    "# check no. of duplicates in Text column\n",
    "data_t_duplicates = data_t.duplicated()\n",
    "print(data_t_duplicates.sum())"
   ]
  },
  {
   "cell_type": "code",
   "execution_count": 7,
   "id": "125e48f5",
   "metadata": {},
   "outputs": [
    {
     "data": {
      "text/plain": [
       "(9513,)"
      ]
     },
     "execution_count": 7,
     "metadata": {},
     "output_type": "execute_result"
    }
   ],
   "source": [
    "# remove duplicates in Text column\n",
    "data_rdup = data_t.drop_duplicates()\n",
    "data_rdup.shape"
   ]
  },
  {
   "cell_type": "code",
   "execution_count": 8,
   "id": "67cecdb4",
   "metadata": {},
   "outputs": [
    {
     "name": "stdout",
     "output_type": "stream",
     "text": [
      "Twizzlers, Strawberry my childhood favorite candy, made in Lancaster Pennsylvania by Y & S Candies, Inc. one of the oldest confectionery Firms in the United States, now a Subsidiary of the Hershey Company, the Company was established in 1845 as Young and Smylie, they also make Apple Licorice Twists, Green Color and Blue Raspberry Licorice Twists, I like them all<br /><br />I keep it in a dry cool place because is not recommended it to put it in the fridge. According to the Guinness Book of Records, the longest Licorice Twist ever made measured 1.200 Feet (370 M) and weighted 100 Pounds (45 Kg) and was made by Y & S Candies, Inc. This Record-Breaking Twist became a Guinness World Record on July 19, 1998. This Product is Kosher! Thank You\n"
     ]
    }
   ],
   "source": [
    "# check any row\n",
    "print(data_rdup[18])"
   ]
  },
  {
   "cell_type": "markdown",
   "id": "44fdb8b1",
   "metadata": {},
   "source": [
    "# Data Cleaning & Standardization"
   ]
  },
  {
   "cell_type": "code",
   "execution_count": 9,
   "id": "f8601c99",
   "metadata": {},
   "outputs": [],
   "source": [
    "# import library\n",
    "import re\n",
    "import string"
   ]
  },
  {
   "cell_type": "code",
   "execution_count": 10,
   "id": "901a76f4",
   "metadata": {},
   "outputs": [],
   "source": [
    "#.strip() is to remove white spaces after you do substitution\n",
    "def get_cleaned_textdata(sentence):\n",
    "    modified_sentence = re.sub(r'<.*?>',' ', sentence)\n",
    "    modified_sentence = ''.join([i if i not in string.punctuation else ' ' for i in modified_sentence])\n",
    "    modified_sentence = re.sub(r'\\d+', ' ', modified_sentence)\n",
    "    modified_sentence = re.sub(r'\\s+', ' ', modified_sentence)\n",
    "    modified_sentence = re.sub(r'also', ' ', modified_sentence)\n",
    "    modified_sentence = modified_sentence.strip().lower()\n",
    "    return modified_sentence"
   ]
  },
  {
   "cell_type": "code",
   "execution_count": 11,
   "id": "3515d7fb",
   "metadata": {},
   "outputs": [],
   "source": [
    "data_rdupclean = data_rdup.apply(get_cleaned_textdata)"
   ]
  },
  {
   "cell_type": "code",
   "execution_count": 12,
   "id": "b890f71c",
   "metadata": {},
   "outputs": [
    {
     "name": "stdout",
     "output_type": "stream",
     "text": [
      "Twizzlers, Strawberry my childhood favorite candy, made in Lancaster Pennsylvania by Y & S Candies, Inc. one of the oldest confectionery Firms in the United States, now a Subsidiary of the Hershey Company, the Company was established in 1845 as Young and Smylie, they also make Apple Licorice Twists, Green Color and Blue Raspberry Licorice Twists, I like them all<br /><br />I keep it in a dry cool place because is not recommended it to put it in the fridge. According to the Guinness Book of Records, the longest Licorice Twist ever made measured 1.200 Feet (370 M) and weighted 100 Pounds (45 Kg) and was made by Y & S Candies, Inc. This Record-Breaking Twist became a Guinness World Record on July 19, 1998. This Product is Kosher! Thank You \n",
      "\n",
      "twizzlers strawberry my childhood favorite candy made in lancaster pennsylvania by y s candies inc one of the oldest confectionery firms in the united states now a subsidiary of the hershey company the company was established in as young and smylie they   make apple licorice twists green color and blue raspberry licorice twists i like them all i keep it in a dry cool place because is not recommended it to put it in the fridge according to the guinness book of records the longest licorice twist ever made measured feet m and weighted pounds kg and was made by y s candies inc this record breaking twist became a guinness world record on july this product is kosher thank you\n"
     ]
    }
   ],
   "source": [
    "# check result of data cleaning\n",
    "print(data_rdup[18],\"\\n\")\n",
    "print(data_rdupclean[18])"
   ]
  },
  {
   "cell_type": "markdown",
   "id": "0afd5e64",
   "metadata": {},
   "source": [
    "# Tokenization"
   ]
  },
  {
   "cell_type": "code",
   "execution_count": 13,
   "id": "ab1b7b71",
   "metadata": {},
   "outputs": [
    {
     "name": "stderr",
     "output_type": "stream",
     "text": [
      "[nltk_data] Downloading package punkt to\n",
      "[nltk_data]     C:\\Users\\amirul\\AppData\\Roaming\\nltk_data...\n",
      "[nltk_data]   Package punkt is already up-to-date!\n"
     ]
    },
    {
     "data": {
      "text/plain": [
       "True"
      ]
     },
     "execution_count": 13,
     "metadata": {},
     "output_type": "execute_result"
    }
   ],
   "source": [
    "import nltk\n",
    "nltk.download('punkt')"
   ]
  },
  {
   "cell_type": "code",
   "execution_count": 14,
   "id": "1eae858f",
   "metadata": {},
   "outputs": [],
   "source": [
    "from nltk.tokenize import word_tokenize"
   ]
  },
  {
   "cell_type": "code",
   "execution_count": 15,
   "id": "64cfe56b",
   "metadata": {},
   "outputs": [],
   "source": [
    "data_token = data_rdupclean.apply(word_tokenize)"
   ]
  },
  {
   "cell_type": "code",
   "execution_count": 16,
   "id": "149c30f2",
   "metadata": {},
   "outputs": [
    {
     "name": "stdout",
     "output_type": "stream",
     "text": [
      "twizzlers strawberry my childhood favorite candy made in lancaster pennsylvania by y s candies inc one of the oldest confectionery firms in the united states now a subsidiary of the hershey company the company was established in as young and smylie they   make apple licorice twists green color and blue raspberry licorice twists i like them all i keep it in a dry cool place because is not recommended it to put it in the fridge according to the guinness book of records the longest licorice twist ever made measured feet m and weighted pounds kg and was made by y s candies inc this record breaking twist became a guinness world record on july this product is kosher thank you \n",
      "\n",
      "['twizzlers', 'strawberry', 'my', 'childhood', 'favorite', 'candy', 'made', 'in', 'lancaster', 'pennsylvania', 'by', 'y', 's', 'candies', 'inc', 'one', 'of', 'the', 'oldest', 'confectionery', 'firms', 'in', 'the', 'united', 'states', 'now', 'a', 'subsidiary', 'of', 'the', 'hershey', 'company', 'the', 'company', 'was', 'established', 'in', 'as', 'young', 'and', 'smylie', 'they', 'make', 'apple', 'licorice', 'twists', 'green', 'color', 'and', 'blue', 'raspberry', 'licorice', 'twists', 'i', 'like', 'them', 'all', 'i', 'keep', 'it', 'in', 'a', 'dry', 'cool', 'place', 'because', 'is', 'not', 'recommended', 'it', 'to', 'put', 'it', 'in', 'the', 'fridge', 'according', 'to', 'the', 'guinness', 'book', 'of', 'records', 'the', 'longest', 'licorice', 'twist', 'ever', 'made', 'measured', 'feet', 'm', 'and', 'weighted', 'pounds', 'kg', 'and', 'was', 'made', 'by', 'y', 's', 'candies', 'inc', 'this', 'record', 'breaking', 'twist', 'became', 'a', 'guinness', 'world', 'record', 'on', 'july', 'this', 'product', 'is', 'kosher', 'thank', 'you']\n"
     ]
    }
   ],
   "source": [
    "# check result of tokenization\n",
    "print(data_rdupclean[18],\"\\n\")\n",
    "print(data_token[18])"
   ]
  },
  {
   "cell_type": "markdown",
   "id": "657c8946",
   "metadata": {},
   "source": [
    "# Remove Stopwords"
   ]
  },
  {
   "cell_type": "code",
   "execution_count": 17,
   "id": "d804ca59",
   "metadata": {},
   "outputs": [
    {
     "name": "stderr",
     "output_type": "stream",
     "text": [
      "[nltk_data] Downloading package stopwords to\n",
      "[nltk_data]     C:\\Users\\amirul\\AppData\\Roaming\\nltk_data...\n",
      "[nltk_data]   Package stopwords is already up-to-date!\n"
     ]
    },
    {
     "data": {
      "text/plain": [
       "True"
      ]
     },
     "execution_count": 17,
     "metadata": {},
     "output_type": "execute_result"
    }
   ],
   "source": [
    "nltk.download('stopwords')"
   ]
  },
  {
   "cell_type": "code",
   "execution_count": 18,
   "id": "379a74df",
   "metadata": {},
   "outputs": [],
   "source": [
    "stopwords = nltk.corpus.stopwords.words('english')"
   ]
  },
  {
   "cell_type": "code",
   "execution_count": 19,
   "id": "db4dfd1d",
   "metadata": {},
   "outputs": [],
   "source": [
    "def remove_stopwords(text):\n",
    "    output = []\n",
    "    for i in text:\n",
    "        if i not in stopwords:\n",
    "            output.append(i)\n",
    "    return output"
   ]
  },
  {
   "cell_type": "code",
   "execution_count": 20,
   "id": "59ee042d",
   "metadata": {},
   "outputs": [],
   "source": [
    "data_xstopwords = data_token.apply(remove_stopwords)"
   ]
  },
  {
   "cell_type": "code",
   "execution_count": 21,
   "id": "d6661962",
   "metadata": {},
   "outputs": [
    {
     "name": "stdout",
     "output_type": "stream",
     "text": [
      "['twizzlers', 'strawberry', 'my', 'childhood', 'favorite', 'candy', 'made', 'in', 'lancaster', 'pennsylvania', 'by', 'y', 's', 'candies', 'inc', 'one', 'of', 'the', 'oldest', 'confectionery', 'firms', 'in', 'the', 'united', 'states', 'now', 'a', 'subsidiary', 'of', 'the', 'hershey', 'company', 'the', 'company', 'was', 'established', 'in', 'as', 'young', 'and', 'smylie', 'they', 'make', 'apple', 'licorice', 'twists', 'green', 'color', 'and', 'blue', 'raspberry', 'licorice', 'twists', 'i', 'like', 'them', 'all', 'i', 'keep', 'it', 'in', 'a', 'dry', 'cool', 'place', 'because', 'is', 'not', 'recommended', 'it', 'to', 'put', 'it', 'in', 'the', 'fridge', 'according', 'to', 'the', 'guinness', 'book', 'of', 'records', 'the', 'longest', 'licorice', 'twist', 'ever', 'made', 'measured', 'feet', 'm', 'and', 'weighted', 'pounds', 'kg', 'and', 'was', 'made', 'by', 'y', 's', 'candies', 'inc', 'this', 'record', 'breaking', 'twist', 'became', 'a', 'guinness', 'world', 'record', 'on', 'july', 'this', 'product', 'is', 'kosher', 'thank', 'you'] \n",
      "\n",
      "['twizzlers', 'strawberry', 'childhood', 'favorite', 'candy', 'made', 'lancaster', 'pennsylvania', 'candies', 'inc', 'one', 'oldest', 'confectionery', 'firms', 'united', 'states', 'subsidiary', 'hershey', 'company', 'company', 'established', 'young', 'smylie', 'make', 'apple', 'licorice', 'twists', 'green', 'color', 'blue', 'raspberry', 'licorice', 'twists', 'like', 'keep', 'dry', 'cool', 'place', 'recommended', 'put', 'fridge', 'according', 'guinness', 'book', 'records', 'longest', 'licorice', 'twist', 'ever', 'made', 'measured', 'feet', 'weighted', 'pounds', 'kg', 'made', 'candies', 'inc', 'record', 'breaking', 'twist', 'became', 'guinness', 'world', 'record', 'july', 'product', 'kosher', 'thank']\n"
     ]
    }
   ],
   "source": [
    "# check result of stopwords removal\n",
    "print(data_token[18],\"\\n\")\n",
    "print(data_xstopwords[18])"
   ]
  },
  {
   "cell_type": "markdown",
   "id": "c56a3946",
   "metadata": {},
   "source": [
    "# Stemming"
   ]
  },
  {
   "cell_type": "code",
   "execution_count": 22,
   "id": "d8dc1eb8",
   "metadata": {},
   "outputs": [],
   "source": [
    "from nltk.stem.porter import PorterStemmer"
   ]
  },
  {
   "cell_type": "code",
   "execution_count": 23,
   "id": "3000712b",
   "metadata": {},
   "outputs": [],
   "source": [
    "porter_stemmer = PorterStemmer()"
   ]
  },
  {
   "cell_type": "code",
   "execution_count": 24,
   "id": "f2295497",
   "metadata": {},
   "outputs": [],
   "source": [
    "def porter_stemming(text):\n",
    "    stem_text = []\n",
    "    for word in text:\n",
    "        stemmed_word = porter_stemmer.stem(word)\n",
    "        stem_text.append(stemmed_word)\n",
    "    return stem_text"
   ]
  },
  {
   "cell_type": "code",
   "execution_count": 25,
   "id": "74e89371",
   "metadata": {},
   "outputs": [],
   "source": [
    "data_porterstem = data_xstopwords.apply(porter_stemming)"
   ]
  },
  {
   "cell_type": "code",
   "execution_count": 26,
   "id": "985c29bd",
   "metadata": {},
   "outputs": [
    {
     "name": "stdout",
     "output_type": "stream",
     "text": [
      "['twizzlers', 'strawberry', 'childhood', 'favorite', 'candy', 'made', 'lancaster', 'pennsylvania', 'candies', 'inc', 'one', 'oldest', 'confectionery', 'firms', 'united', 'states', 'subsidiary', 'hershey', 'company', 'company', 'established', 'young', 'smylie', 'make', 'apple', 'licorice', 'twists', 'green', 'color', 'blue', 'raspberry', 'licorice', 'twists', 'like', 'keep', 'dry', 'cool', 'place', 'recommended', 'put', 'fridge', 'according', 'guinness', 'book', 'records', 'longest', 'licorice', 'twist', 'ever', 'made', 'measured', 'feet', 'weighted', 'pounds', 'kg', 'made', 'candies', 'inc', 'record', 'breaking', 'twist', 'became', 'guinness', 'world', 'record', 'july', 'product', 'kosher', 'thank'] \n",
      "\n",
      "\n",
      "['twizzler', 'strawberri', 'childhood', 'favorit', 'candi', 'made', 'lancast', 'pennsylvania', 'candi', 'inc', 'one', 'oldest', 'confectioneri', 'firm', 'unit', 'state', 'subsidiari', 'hershey', 'compani', 'compani', 'establish', 'young', 'smyli', 'make', 'appl', 'licoric', 'twist', 'green', 'color', 'blue', 'raspberri', 'licoric', 'twist', 'like', 'keep', 'dri', 'cool', 'place', 'recommend', 'put', 'fridg', 'accord', 'guin', 'book', 'record', 'longest', 'licoric', 'twist', 'ever', 'made', 'measur', 'feet', 'weight', 'pound', 'kg', 'made', 'candi', 'inc', 'record', 'break', 'twist', 'becam', 'guin', 'world', 'record', 'juli', 'product', 'kosher', 'thank']\n"
     ]
    }
   ],
   "source": [
    "# check result after Porter stemming\n",
    "print(data_xstopwords[18], \"\\n\\n\")\n",
    "print(data_porterstem[18])"
   ]
  },
  {
   "cell_type": "markdown",
   "id": "99893705",
   "metadata": {},
   "source": [
    "# Lemmatization"
   ]
  },
  {
   "cell_type": "code",
   "execution_count": 27,
   "id": "bff6cc11",
   "metadata": {},
   "outputs": [
    {
     "name": "stderr",
     "output_type": "stream",
     "text": [
      "[nltk_data] Downloading package wordnet to\n",
      "[nltk_data]     C:\\Users\\amirul\\AppData\\Roaming\\nltk_data...\n",
      "[nltk_data]   Package wordnet is already up-to-date!\n"
     ]
    },
    {
     "data": {
      "text/plain": [
       "True"
      ]
     },
     "execution_count": 27,
     "metadata": {},
     "output_type": "execute_result"
    }
   ],
   "source": [
    "nltk.download('wordnet')"
   ]
  },
  {
   "cell_type": "code",
   "execution_count": 28,
   "id": "3ca75f35",
   "metadata": {},
   "outputs": [],
   "source": [
    "#importing the Lemmatizer function from nltk library\n",
    "from nltk.stem import WordNetLemmatizer"
   ]
  },
  {
   "cell_type": "code",
   "execution_count": 29,
   "id": "e2646680",
   "metadata": {},
   "outputs": [],
   "source": [
    "#defining the object for Lemmatization\n",
    "wordnet_lemmatizer = WordNetLemmatizer()"
   ]
  },
  {
   "cell_type": "code",
   "execution_count": 30,
   "id": "3335de3b",
   "metadata": {},
   "outputs": [],
   "source": [
    "#defining the function for lemmatization\n",
    "def lemmatizer(text):\n",
    "    lemm_text = []\n",
    "    for word in text:\n",
    "        lemmatized_word = wordnet_lemmatizer.lemmatize(word)\n",
    "        lemm_text.append(lemmatized_word)\n",
    "    return lemm_text"
   ]
  },
  {
   "cell_type": "code",
   "execution_count": 31,
   "id": "5f2e18ea",
   "metadata": {},
   "outputs": [],
   "source": [
    "#applying the lemmatizer function to data_porterstem\n",
    "data_lemmatized1 = data_porterstem.apply(lemmatizer)\n",
    "data_lemmatized2 = data_xstopwords.apply(lemmatizer)\n"
   ]
  },
  {
   "cell_type": "code",
   "execution_count": 32,
   "id": "a80c73b1",
   "metadata": {},
   "outputs": [
    {
     "name": "stdout",
     "output_type": "stream",
     "text": [
      "['twizzler', 'strawberri', 'childhood', 'favorit', 'candi', 'made', 'lancast', 'pennsylvania', 'candi', 'inc', 'one', 'oldest', 'confectioneri', 'firm', 'unit', 'state', 'subsidiari', 'hershey', 'compani', 'compani', 'establish', 'young', 'smyli', 'make', 'appl', 'licoric', 'twist', 'green', 'color', 'blue', 'raspberri', 'licoric', 'twist', 'like', 'keep', 'dri', 'cool', 'place', 'recommend', 'put', 'fridg', 'accord', 'guin', 'book', 'record', 'longest', 'licoric', 'twist', 'ever', 'made', 'measur', 'feet', 'weight', 'pound', 'kg', 'made', 'candi', 'inc', 'record', 'break', 'twist', 'becam', 'guin', 'world', 'record', 'juli', 'product', 'kosher', 'thank'] \n",
      "\n",
      "\n",
      "['twizzler', 'strawberri', 'childhood', 'favorit', 'candi', 'made', 'lancast', 'pennsylvania', 'candi', 'inc', 'one', 'oldest', 'confectioneri', 'firm', 'unit', 'state', 'subsidiari', 'hershey', 'compani', 'compani', 'establish', 'young', 'smyli', 'make', 'appl', 'licoric', 'twist', 'green', 'color', 'blue', 'raspberri', 'licoric', 'twist', 'like', 'keep', 'dri', 'cool', 'place', 'recommend', 'put', 'fridg', 'accord', 'guin', 'book', 'record', 'longest', 'licoric', 'twist', 'ever', 'made', 'measur', 'foot', 'weight', 'pound', 'kg', 'made', 'candi', 'inc', 'record', 'break', 'twist', 'becam', 'guin', 'world', 'record', 'juli', 'product', 'kosher', 'thank'] \n",
      "\n",
      "\n",
      "['twizzlers', 'strawberry', 'childhood', 'favorite', 'candy', 'made', 'lancaster', 'pennsylvania', 'candies', 'inc', 'one', 'oldest', 'confectionery', 'firms', 'united', 'states', 'subsidiary', 'hershey', 'company', 'company', 'established', 'young', 'smylie', 'make', 'apple', 'licorice', 'twists', 'green', 'color', 'blue', 'raspberry', 'licorice', 'twists', 'like', 'keep', 'dry', 'cool', 'place', 'recommended', 'put', 'fridge', 'according', 'guinness', 'book', 'records', 'longest', 'licorice', 'twist', 'ever', 'made', 'measured', 'feet', 'weighted', 'pounds', 'kg', 'made', 'candies', 'inc', 'record', 'breaking', 'twist', 'became', 'guinness', 'world', 'record', 'july', 'product', 'kosher', 'thank'] \n",
      "\n",
      "\n",
      "['twizzlers', 'strawberry', 'childhood', 'favorite', 'candy', 'made', 'lancaster', 'pennsylvania', 'candy', 'inc', 'one', 'oldest', 'confectionery', 'firm', 'united', 'state', 'subsidiary', 'hershey', 'company', 'company', 'established', 'young', 'smylie', 'make', 'apple', 'licorice', 'twist', 'green', 'color', 'blue', 'raspberry', 'licorice', 'twist', 'like', 'keep', 'dry', 'cool', 'place', 'recommended', 'put', 'fridge', 'according', 'guinness', 'book', 'record', 'longest', 'licorice', 'twist', 'ever', 'made', 'measured', 'foot', 'weighted', 'pound', 'kg', 'made', 'candy', 'inc', 'record', 'breaking', 'twist', 'became', 'guinness', 'world', 'record', 'july', 'product', 'kosher', 'thank'] \n",
      "\n",
      "\n"
     ]
    },
    {
     "data": {
      "text/html": [
       "<div>\n",
       "<style scoped>\n",
       "    .dataframe tbody tr th:only-of-type {\n",
       "        vertical-align: middle;\n",
       "    }\n",
       "\n",
       "    .dataframe tbody tr th {\n",
       "        vertical-align: top;\n",
       "    }\n",
       "\n",
       "    .dataframe thead th {\n",
       "        text-align: right;\n",
       "    }\n",
       "</style>\n",
       "<table border=\"1\" class=\"dataframe\">\n",
       "  <thead>\n",
       "    <tr style=\"text-align: right;\">\n",
       "      <th></th>\n",
       "      <th>Id</th>\n",
       "      <th>ProductId</th>\n",
       "      <th>UserId</th>\n",
       "      <th>ProfileName</th>\n",
       "      <th>HelpfulnessNumerator</th>\n",
       "      <th>HelpfulnessDenominator</th>\n",
       "      <th>Score</th>\n",
       "      <th>Time</th>\n",
       "      <th>Summary</th>\n",
       "      <th>Text</th>\n",
       "      <th>text_clean</th>\n",
       "    </tr>\n",
       "  </thead>\n",
       "  <tbody>\n",
       "    <tr>\n",
       "      <th>0</th>\n",
       "      <td>1</td>\n",
       "      <td>B001E4KFG0</td>\n",
       "      <td>A3SGXH7AUHU8GW</td>\n",
       "      <td>delmartian</td>\n",
       "      <td>1</td>\n",
       "      <td>1</td>\n",
       "      <td>5</td>\n",
       "      <td>1303862400</td>\n",
       "      <td>Good Quality Dog Food</td>\n",
       "      <td>I have bought several of the Vitality canned d...</td>\n",
       "      <td>[bought, sever, vital, can, dog, food, product...</td>\n",
       "    </tr>\n",
       "    <tr>\n",
       "      <th>1</th>\n",
       "      <td>2</td>\n",
       "      <td>B00813GRG4</td>\n",
       "      <td>A1D87F6ZCVE5NK</td>\n",
       "      <td>dll pa</td>\n",
       "      <td>0</td>\n",
       "      <td>0</td>\n",
       "      <td>1</td>\n",
       "      <td>1346976000</td>\n",
       "      <td>Not as Advertised</td>\n",
       "      <td>Product arrived labeled as Jumbo Salted Peanut...</td>\n",
       "      <td>[product, arriv, label, jumbo, salt, peanut, p...</td>\n",
       "    </tr>\n",
       "    <tr>\n",
       "      <th>2</th>\n",
       "      <td>3</td>\n",
       "      <td>B000LQOCH0</td>\n",
       "      <td>ABXLMWJIXXAIN</td>\n",
       "      <td>Natalia Corres \"Natalia Corres\"</td>\n",
       "      <td>1</td>\n",
       "      <td>1</td>\n",
       "      <td>4</td>\n",
       "      <td>1219017600</td>\n",
       "      <td>\"Delight\" says it all</td>\n",
       "      <td>This is a confection that has been around a fe...</td>\n",
       "      <td>[confect, around, centuri, light, pillowi, cit...</td>\n",
       "    </tr>\n",
       "    <tr>\n",
       "      <th>3</th>\n",
       "      <td>4</td>\n",
       "      <td>B000UA0QIQ</td>\n",
       "      <td>A395BORC6FGVXV</td>\n",
       "      <td>Karl</td>\n",
       "      <td>3</td>\n",
       "      <td>3</td>\n",
       "      <td>2</td>\n",
       "      <td>1307923200</td>\n",
       "      <td>Cough Medicine</td>\n",
       "      <td>If you are looking for the secret ingredient i...</td>\n",
       "      <td>[look, secret, ingredi, robitussin, believ, fo...</td>\n",
       "    </tr>\n",
       "    <tr>\n",
       "      <th>4</th>\n",
       "      <td>5</td>\n",
       "      <td>B006K2ZZ7K</td>\n",
       "      <td>A1UQRSCLF8GW1T</td>\n",
       "      <td>Michael D. Bigham \"M. Wassir\"</td>\n",
       "      <td>0</td>\n",
       "      <td>0</td>\n",
       "      <td>5</td>\n",
       "      <td>1350777600</td>\n",
       "      <td>Great taffy</td>\n",
       "      <td>Great taffy at a great price.  There was a wid...</td>\n",
       "      <td>[great, taffi, great, price, wide, assort, yum...</td>\n",
       "    </tr>\n",
       "    <tr>\n",
       "      <th>...</th>\n",
       "      <td>...</td>\n",
       "      <td>...</td>\n",
       "      <td>...</td>\n",
       "      <td>...</td>\n",
       "      <td>...</td>\n",
       "      <td>...</td>\n",
       "      <td>...</td>\n",
       "      <td>...</td>\n",
       "      <td>...</td>\n",
       "      <td>...</td>\n",
       "      <td>...</td>\n",
       "    </tr>\n",
       "    <tr>\n",
       "      <th>9995</th>\n",
       "      <td>9996</td>\n",
       "      <td>B000P41A28</td>\n",
       "      <td>A3A63RACXR1XIL</td>\n",
       "      <td>A. Boodhoo \"deaddodo\"</td>\n",
       "      <td>10</td>\n",
       "      <td>15</td>\n",
       "      <td>1</td>\n",
       "      <td>1204502400</td>\n",
       "      <td>constipation</td>\n",
       "      <td>we switched from the advance similac to the or...</td>\n",
       "      <td>[switch, advanc, similac, organ, product, thin...</td>\n",
       "    </tr>\n",
       "    <tr>\n",
       "      <th>9996</th>\n",
       "      <td>9997</td>\n",
       "      <td>B000P41A28</td>\n",
       "      <td>A5VVRGL8JA7R</td>\n",
       "      <td>Adam</td>\n",
       "      <td>2</td>\n",
       "      <td>3</td>\n",
       "      <td>5</td>\n",
       "      <td>1306368000</td>\n",
       "      <td>Constipation Not A Problem if...</td>\n",
       "      <td>Like the bad reviews say, the organic formula ...</td>\n",
       "      <td>[like, bad, review, say, organ, formula, const...</td>\n",
       "    </tr>\n",
       "    <tr>\n",
       "      <th>9997</th>\n",
       "      <td>9998</td>\n",
       "      <td>B000P41A28</td>\n",
       "      <td>A2TGDTJ8YCU6PD</td>\n",
       "      <td>geena77</td>\n",
       "      <td>0</td>\n",
       "      <td>0</td>\n",
       "      <td>5</td>\n",
       "      <td>1347494400</td>\n",
       "      <td>Love this formula!</td>\n",
       "      <td>I wanted to solely breastfeed but was unable t...</td>\n",
       "      <td>[want, sole, breastfe, unabl, keep, supplement...</td>\n",
       "    </tr>\n",
       "    <tr>\n",
       "      <th>9998</th>\n",
       "      <td>9999</td>\n",
       "      <td>B000P41A28</td>\n",
       "      <td>AUV4GIZZE693O</td>\n",
       "      <td>Susan Coe \"sueysis\"</td>\n",
       "      <td>1</td>\n",
       "      <td>2</td>\n",
       "      <td>5</td>\n",
       "      <td>1203638400</td>\n",
       "      <td>very convenient</td>\n",
       "      <td>i love the fact that i can get this delieved t...</td>\n",
       "      <td>[love, fact, get, deliev, hous, delievi, charg...</td>\n",
       "    </tr>\n",
       "    <tr>\n",
       "      <th>9999</th>\n",
       "      <td>10000</td>\n",
       "      <td>B000P41A28</td>\n",
       "      <td>A82WIMR4RSVLI</td>\n",
       "      <td>Emrose mom</td>\n",
       "      <td>0</td>\n",
       "      <td>1</td>\n",
       "      <td>4</td>\n",
       "      <td>1337472000</td>\n",
       "      <td>The best weve tried so far</td>\n",
       "      <td>We have a 7 week old... He had gas and constip...</td>\n",
       "      <td>[week, old, ga, constip, problem, first, week,...</td>\n",
       "    </tr>\n",
       "  </tbody>\n",
       "</table>\n",
       "<p>10000 rows × 11 columns</p>\n",
       "</div>"
      ],
      "text/plain": [
       "         Id   ProductId          UserId                      ProfileName  \\\n",
       "0         1  B001E4KFG0  A3SGXH7AUHU8GW                       delmartian   \n",
       "1         2  B00813GRG4  A1D87F6ZCVE5NK                           dll pa   \n",
       "2         3  B000LQOCH0   ABXLMWJIXXAIN  Natalia Corres \"Natalia Corres\"   \n",
       "3         4  B000UA0QIQ  A395BORC6FGVXV                             Karl   \n",
       "4         5  B006K2ZZ7K  A1UQRSCLF8GW1T    Michael D. Bigham \"M. Wassir\"   \n",
       "...     ...         ...             ...                              ...   \n",
       "9995   9996  B000P41A28  A3A63RACXR1XIL            A. Boodhoo \"deaddodo\"   \n",
       "9996   9997  B000P41A28    A5VVRGL8JA7R                             Adam   \n",
       "9997   9998  B000P41A28  A2TGDTJ8YCU6PD                          geena77   \n",
       "9998   9999  B000P41A28   AUV4GIZZE693O              Susan Coe \"sueysis\"   \n",
       "9999  10000  B000P41A28   A82WIMR4RSVLI                       Emrose mom   \n",
       "\n",
       "      HelpfulnessNumerator  HelpfulnessDenominator  Score        Time  \\\n",
       "0                        1                       1      5  1303862400   \n",
       "1                        0                       0      1  1346976000   \n",
       "2                        1                       1      4  1219017600   \n",
       "3                        3                       3      2  1307923200   \n",
       "4                        0                       0      5  1350777600   \n",
       "...                    ...                     ...    ...         ...   \n",
       "9995                    10                      15      1  1204502400   \n",
       "9996                     2                       3      5  1306368000   \n",
       "9997                     0                       0      5  1347494400   \n",
       "9998                     1                       2      5  1203638400   \n",
       "9999                     0                       1      4  1337472000   \n",
       "\n",
       "                               Summary  \\\n",
       "0                Good Quality Dog Food   \n",
       "1                    Not as Advertised   \n",
       "2                \"Delight\" says it all   \n",
       "3                       Cough Medicine   \n",
       "4                          Great taffy   \n",
       "...                                ...   \n",
       "9995                      constipation   \n",
       "9996  Constipation Not A Problem if...   \n",
       "9997                Love this formula!   \n",
       "9998                   very convenient   \n",
       "9999        The best weve tried so far   \n",
       "\n",
       "                                                   Text  \\\n",
       "0     I have bought several of the Vitality canned d...   \n",
       "1     Product arrived labeled as Jumbo Salted Peanut...   \n",
       "2     This is a confection that has been around a fe...   \n",
       "3     If you are looking for the secret ingredient i...   \n",
       "4     Great taffy at a great price.  There was a wid...   \n",
       "...                                                 ...   \n",
       "9995  we switched from the advance similac to the or...   \n",
       "9996  Like the bad reviews say, the organic formula ...   \n",
       "9997  I wanted to solely breastfeed but was unable t...   \n",
       "9998  i love the fact that i can get this delieved t...   \n",
       "9999  We have a 7 week old... He had gas and constip...   \n",
       "\n",
       "                                             text_clean  \n",
       "0     [bought, sever, vital, can, dog, food, product...  \n",
       "1     [product, arriv, label, jumbo, salt, peanut, p...  \n",
       "2     [confect, around, centuri, light, pillowi, cit...  \n",
       "3     [look, secret, ingredi, robitussin, believ, fo...  \n",
       "4     [great, taffi, great, price, wide, assort, yum...  \n",
       "...                                                 ...  \n",
       "9995  [switch, advanc, similac, organ, product, thin...  \n",
       "9996  [like, bad, review, say, organ, formula, const...  \n",
       "9997  [want, sole, breastfe, unabl, keep, supplement...  \n",
       "9998  [love, fact, get, deliev, hous, delievi, charg...  \n",
       "9999  [week, old, ga, constip, problem, first, week,...  \n",
       "\n",
       "[10000 rows x 11 columns]"
      ]
     },
     "execution_count": 32,
     "metadata": {},
     "output_type": "execute_result"
    }
   ],
   "source": [
    "# check result after Lemmatization\n",
    "print(data_porterstem[18], \"\\n\\n\")\n",
    "print(data_lemmatized1[18], \"\\n\\n\")\n",
    "print(data_xstopwords[18], \"\\n\\n\")\n",
    "print(data_lemmatized2[18], \"\\n\\n\")\n",
    "\n",
    "data['text_clean'] = data_lemmatized1\n",
    "data"
   ]
  },
  {
   "cell_type": "code",
   "execution_count": 33,
   "id": "b2f86768-11a3-4584-bcdc-1e4626313c59",
   "metadata": {},
   "outputs": [
    {
     "data": {
      "image/png": "[encoded data removed]",
      "text/plain": [
       "<Figure size 1000x500 with 1 Axes>"
      ]
     },
     "metadata": {},
     "output_type": "display_data"
    }
   ],
   "source": [
    "import matplotlib.pyplot as plt\n",
    "\n",
    "ax = data['Score'].value_counts().sort_index()\\\n",
    "     .plot(kind='bar',\n",
    "           title='Count of reviews by stars',\n",
    "           figsize=(10,5))\n",
    "ax.set_xlabel('Review Stars')\n",
    "plt.show()"
   ]
  },
  {
   "cell_type": "markdown",
   "id": "268a09c9",
   "metadata": {},
   "source": [
    "# Task 2\n",
    "## Convert text data into numerical features"
   ]
  },
  {
   "cell_type": "code",
   "execution_count": 34,
   "id": "8fa4011f",
   "metadata": {},
   "outputs": [],
   "source": [
    "# import another library\n",
    "import math\n",
    "from collections import Counter"
   ]
  },
  {
   "cell_type": "code",
   "execution_count": 35,
   "id": "1ff76b71",
   "metadata": {},
   "outputs": [],
   "source": [
    "# create functions for calculating the tf, idf and tf-idf\n",
    "def compute_tf(document):\n",
    "    word_count = Counter(document)\n",
    "    tf = {word: count/len(document) for word, count in word_count.items()}\n",
    "    return tf\n",
    "\n",
    "def compute_idf(documents):\n",
    "    N = len(documents)\n",
    "    idf = {}\n",
    "    all_words = set(word for doc in documents for word in doc)\n",
    "    for word in all_words:\n",
    "        count = sum(1 for doc in documents if word in doc)\n",
    "        idf[word] = math.log(N/count)\n",
    "    return idf\n",
    "\n",
    "def compute_tfidf(document, idf):\n",
    "    tfidf = {}\n",
    "    tf = compute_tf(document)\n",
    "    for word, tf_value in tf.items():\n",
    "        tfidf[word] = tf_value * idf[word]\n",
    "    return tfidf"
   ]
  },
  {
   "cell_type": "code",
   "execution_count": 36,
   "id": "bddeb14b",
   "metadata": {},
   "outputs": [],
   "source": [
    "# Now compute the tf or the data that already lemmetised\n",
    "tf_data1 = [compute_tf(doc) for doc in data_lemmatized1]\n",
    "tf_data2 = [compute_tf(doc) for doc in data_lemmatized2]"
   ]
  },
  {
   "cell_type": "code",
   "execution_count": 37,
   "id": "e0f4bf23",
   "metadata": {},
   "outputs": [
    {
     "name": "stdout",
     "output_type": "stream",
     "text": [
      "TF df1 Scores:\n",
      "        bought     sever     vital       can       dog      food   product  \\\n",
      "0     0.043478  0.043478  0.043478  0.043478  0.043478  0.043478  0.130435   \n",
      "1     0.000000  0.000000  0.000000  0.000000  0.000000  0.000000  0.111111   \n",
      "2     0.000000  0.000000  0.000000  0.000000  0.000000  0.000000  0.000000   \n",
      "3     0.000000  0.000000  0.000000  0.000000  0.000000  0.000000  0.000000   \n",
      "4     0.000000  0.000000  0.000000  0.000000  0.000000  0.000000  0.000000   \n",
      "...        ...       ...       ...       ...       ...       ...       ...   \n",
      "9508  0.000000  0.000000  0.000000  0.000000  0.000000  0.025000  0.050000   \n",
      "9509  0.000000  0.000000  0.000000  0.000000  0.000000  0.000000  0.000000   \n",
      "9510  0.000000  0.000000  0.000000  0.000000  0.000000  0.000000  0.012987   \n",
      "9511  0.000000  0.000000  0.000000  0.000000  0.000000  0.000000  0.000000   \n",
      "9512  0.000000  0.000000  0.000000  0.000000  0.000000  0.000000  0.000000   \n",
      "\n",
      "         found      good   qualiti  ...  echelon  rigor  nascent  ulterior  \\\n",
      "0     0.043478  0.043478  0.043478  ...      0.0    0.0      0.0       0.0   \n",
      "1     0.000000  0.000000  0.000000  ...      0.0    0.0      0.0       0.0   \n",
      "2     0.000000  0.000000  0.000000  ...      0.0    0.0      0.0       0.0   \n",
      "3     0.055556  0.055556  0.000000  ...      0.0    0.0      0.0       0.0   \n",
      "4     0.000000  0.000000  0.000000  ...      0.0    0.0      0.0       0.0   \n",
      "...        ...       ...       ...  ...      ...    ...      ...       ...   \n",
      "9508  0.000000  0.000000  0.000000  ...      0.0    0.0      0.0       0.0   \n",
      "9509  0.000000  0.000000  0.000000  ...      0.0    0.0      0.0       0.0   \n",
      "9510  0.012987  0.000000  0.000000  ...      0.0    0.0      0.0       0.0   \n",
      "9511  0.000000  0.000000  0.000000  ...      0.0    0.0      0.0       0.0   \n",
      "9512  0.000000  0.000000  0.000000  ...      0.0    0.0      0.0       0.0   \n",
      "\n",
      "         hexan    deliev   delievi  formular    midwif     amazn  \n",
      "0     0.000000  0.000000  0.000000  0.000000  0.000000  0.000000  \n",
      "1     0.000000  0.000000  0.000000  0.000000  0.000000  0.000000  \n",
      "2     0.000000  0.000000  0.000000  0.000000  0.000000  0.000000  \n",
      "3     0.000000  0.000000  0.000000  0.000000  0.000000  0.000000  \n",
      "4     0.000000  0.000000  0.000000  0.000000  0.000000  0.000000  \n",
      "...        ...       ...       ...       ...       ...       ...  \n",
      "9508  0.000000  0.000000  0.000000  0.000000  0.000000  0.000000  \n",
      "9509  0.000000  0.000000  0.000000  0.000000  0.000000  0.000000  \n",
      "9510  0.038961  0.000000  0.000000  0.000000  0.000000  0.000000  \n",
      "9511  0.000000  0.090909  0.090909  0.090909  0.000000  0.000000  \n",
      "9512  0.000000  0.000000  0.000000  0.000000  0.010753  0.010753  \n",
      "\n",
      "[9513 rows x 12241 columns]\n"
     ]
    }
   ],
   "source": [
    "# Create DataFrame for TF\n",
    "tf_df1 = pd.DataFrame(tf_data1).fillna(0)\n",
    "print(\"TF df1 Scores:\")\n",
    "print(tf_df1)"
   ]
  },
  {
   "cell_type": "code",
   "execution_count": 38,
   "id": "883339ab",
   "metadata": {},
   "outputs": [
    {
     "name": "stdout",
     "output_type": "stream",
     "text": [
      "TF df2 Scores:\n",
      "        bought   several  vitality    canned       dog      food   product  \\\n",
      "0     0.043478  0.043478  0.043478  0.043478  0.043478  0.043478  0.130435   \n",
      "1     0.000000  0.000000  0.000000  0.000000  0.000000  0.000000  0.111111   \n",
      "2     0.000000  0.000000  0.000000  0.000000  0.000000  0.000000  0.000000   \n",
      "3     0.000000  0.000000  0.000000  0.000000  0.000000  0.000000  0.000000   \n",
      "4     0.000000  0.000000  0.000000  0.000000  0.000000  0.000000  0.000000   \n",
      "...        ...       ...       ...       ...       ...       ...       ...   \n",
      "9508  0.000000  0.000000  0.000000  0.000000  0.000000  0.025000  0.050000   \n",
      "9509  0.000000  0.000000  0.000000  0.000000  0.000000  0.000000  0.000000   \n",
      "9510  0.000000  0.000000  0.000000  0.000000  0.000000  0.000000  0.012987   \n",
      "9511  0.000000  0.000000  0.000000  0.000000  0.000000  0.000000  0.000000   \n",
      "9512  0.000000  0.000000  0.000000  0.000000  0.000000  0.000000  0.000000   \n",
      "\n",
      "         found      good   quality  ...  misinformative  progressively  \\\n",
      "0     0.043478  0.043478  0.043478  ...             0.0          0.000   \n",
      "1     0.000000  0.000000  0.000000  ...             0.0          0.000   \n",
      "2     0.000000  0.000000  0.000000  ...             0.0          0.000   \n",
      "3     0.055556  0.055556  0.000000  ...             0.0          0.000   \n",
      "4     0.000000  0.000000  0.000000  ...             0.0          0.000   \n",
      "...        ...       ...       ...  ...             ...            ...   \n",
      "9508  0.000000  0.000000  0.000000  ...             0.0          0.025   \n",
      "9509  0.000000  0.000000  0.000000  ...             0.0          0.000   \n",
      "9510  0.012987  0.000000  0.000000  ...             0.0          0.000   \n",
      "9511  0.000000  0.000000  0.000000  ...             0.0          0.000   \n",
      "9512  0.000000  0.000000  0.000000  ...             0.0          0.000   \n",
      "\n",
      "      worsening  breastfeed    hexane  delieved   delievy  formular   midwife  \\\n",
      "0         0.000    0.000000  0.000000  0.000000  0.000000  0.000000  0.000000   \n",
      "1         0.000    0.000000  0.000000  0.000000  0.000000  0.000000  0.000000   \n",
      "2         0.000    0.000000  0.000000  0.000000  0.000000  0.000000  0.000000   \n",
      "3         0.000    0.000000  0.000000  0.000000  0.000000  0.000000  0.000000   \n",
      "4         0.000    0.000000  0.000000  0.000000  0.000000  0.000000  0.000000   \n",
      "...         ...         ...       ...       ...       ...       ...       ...   \n",
      "9508      0.025    0.000000  0.000000  0.000000  0.000000  0.000000  0.000000   \n",
      "9509      0.000    0.000000  0.000000  0.000000  0.000000  0.000000  0.000000   \n",
      "9510      0.000    0.012987  0.038961  0.000000  0.000000  0.000000  0.000000   \n",
      "9511      0.000    0.000000  0.000000  0.090909  0.090909  0.090909  0.000000   \n",
      "9512      0.000    0.000000  0.000000  0.000000  0.000000  0.000000  0.010753   \n",
      "\n",
      "         amazn  \n",
      "0     0.000000  \n",
      "1     0.000000  \n",
      "2     0.000000  \n",
      "3     0.000000  \n",
      "4     0.000000  \n",
      "...        ...  \n",
      "9508  0.000000  \n",
      "9509  0.000000  \n",
      "9510  0.000000  \n",
      "9511  0.000000  \n",
      "9512  0.010753  \n",
      "\n",
      "[9513 rows x 15956 columns]\n"
     ]
    }
   ],
   "source": [
    "# Create DataFrame for TF\n",
    "tf_df2 = pd.DataFrame(tf_data2).fillna(0)\n",
    "print(\"TF df2 Scores:\")\n",
    "print(tf_df2)"
   ]
  },
  {
   "cell_type": "code",
   "execution_count": 39,
   "id": "0f5b3215",
   "metadata": {},
   "outputs": [
    {
     "name": "stdout",
     "output_type": "stream",
     "text": [
      "\n",
      "IDF df1 Scores:\n",
      "     tempt   citymad  seventeen    honest  shorthair   undefin    gensoy  \\\n",
      "0  6.02492  8.467267   9.160415  5.694679   9.160415  8.467267  9.160415   \n",
      "\n",
      "    reagent    limead   chowder  ...  healther   florida      toy    hyster  \\\n",
      "0  8.467267  9.160415  5.634054  ...  9.160415  6.595465  6.02492  9.160415   \n",
      "\n",
      "      unwil  goldilock    harvey   willpow       eat     embed  \n",
      "0  9.160415   9.160415  9.160415  9.160415  2.155533  8.467267  \n",
      "\n",
      "[1 rows x 12241 columns]\n"
     ]
    }
   ],
   "source": [
    "# Compute IDF - the number of columns should be the same as you calculate in tf\n",
    "idf1 = compute_idf(data_lemmatized1)\n",
    "idf_df1 = pd.DataFrame([idf1]).fillna(0)\n",
    "print(\"\\nIDF df1 Scores:\")\n",
    "print(idf_df1)"
   ]
  },
  {
   "cell_type": "code",
   "execution_count": 40,
   "id": "d710b7e3",
   "metadata": {},
   "outputs": [
    {
     "name": "stdout",
     "output_type": "stream",
     "text": [
      "\n",
      "IDF df2 Scores:\n",
      "   refreshment     tempt  rooibos  shortage  sensitve  economic     diary  \\\n",
      "0     7.080973  7.550977  7.77412  9.160415  9.160415  8.467267  9.160415   \n",
      "\n",
      "   scientifically  patented  seventeen  ...  stunning  compostable  extremely  \\\n",
      "0        9.160415  8.467267   9.160415  ...  8.061802     9.160415   4.398241   \n",
      "\n",
      "   bleaching  emergency    harvey  sweeting       eat  unusable  overshadows  \n",
      "0   9.160415   6.327201  9.160415  9.160415  2.525781  8.467267     9.160415  \n",
      "\n",
      "[1 rows x 15956 columns]\n"
     ]
    }
   ],
   "source": [
    "idf2 = compute_idf(data_lemmatized2)\n",
    "idf_df2 = pd.DataFrame([idf2]).fillna(0)\n",
    "print(\"\\nIDF df2 Scores:\")\n",
    "print(idf_df2)"
   ]
  },
  {
   "cell_type": "code",
   "execution_count": 41,
   "id": "e0def289",
   "metadata": {},
   "outputs": [
    {
     "name": "stdout",
     "output_type": "stream",
     "text": [
      "\n",
      "TF-IDF df1 Scores:\n",
      "        bought     sever     vital       can       dog      food   product  \\\n",
      "0     0.110276  0.145621  0.307868  0.152825  0.127303  0.093837  0.198927   \n",
      "1     0.000000  0.000000  0.000000  0.000000  0.000000  0.000000  0.169457   \n",
      "2     0.000000  0.000000  0.000000  0.000000  0.000000  0.000000  0.000000   \n",
      "3     0.000000  0.000000  0.000000  0.000000  0.000000  0.000000  0.000000   \n",
      "4     0.000000  0.000000  0.000000  0.000000  0.000000  0.000000  0.000000   \n",
      "...        ...       ...       ...       ...       ...       ...       ...   \n",
      "9508  0.000000  0.000000  0.000000  0.000000  0.000000  0.053956  0.076256   \n",
      "9509  0.000000  0.000000  0.000000  0.000000  0.000000  0.000000  0.000000   \n",
      "9510  0.000000  0.000000  0.000000  0.000000  0.000000  0.000000  0.019807   \n",
      "9511  0.000000  0.000000  0.000000  0.000000  0.000000  0.000000  0.000000   \n",
      "9512  0.000000  0.000000  0.000000  0.000000  0.000000  0.000000  0.000000   \n",
      "\n",
      "         found      good   qualiti  ...  echelon  rigor  nascent  ulterior  \\\n",
      "0     0.108467  0.056181  0.127047  ...      0.0    0.0      0.0       0.0   \n",
      "1     0.000000  0.000000  0.000000  ...      0.0    0.0      0.0       0.0   \n",
      "2     0.000000  0.000000  0.000000  ...      0.0    0.0      0.0       0.0   \n",
      "3     0.138596  0.071787  0.000000  ...      0.0    0.0      0.0       0.0   \n",
      "4     0.000000  0.000000  0.000000  ...      0.0    0.0      0.0       0.0   \n",
      "...        ...       ...       ...  ...      ...    ...      ...       ...   \n",
      "9508  0.000000  0.000000  0.000000  ...      0.0    0.0      0.0       0.0   \n",
      "9509  0.000000  0.000000  0.000000  ...      0.0    0.0      0.0       0.0   \n",
      "9510  0.032399  0.000000  0.000000  ...      0.0    0.0      0.0       0.0   \n",
      "9511  0.000000  0.000000  0.000000  ...      0.0    0.0      0.0       0.0   \n",
      "9512  0.000000  0.000000  0.000000  ...      0.0    0.0      0.0       0.0   \n",
      "\n",
      "         hexan    deliev   delievi  formular    midwif     amazn  \n",
      "0     0.000000  0.000000  0.000000  0.000000  0.000000  0.000000  \n",
      "1     0.000000  0.000000  0.000000  0.000000  0.000000  0.000000  \n",
      "2     0.000000  0.000000  0.000000  0.000000  0.000000  0.000000  \n",
      "3     0.000000  0.000000  0.000000  0.000000  0.000000  0.000000  \n",
      "4     0.000000  0.000000  0.000000  0.000000  0.000000  0.000000  \n",
      "...        ...       ...       ...       ...       ...       ...  \n",
      "9508  0.000000  0.000000  0.000000  0.000000  0.000000  0.000000  \n",
      "9509  0.000000  0.000000  0.000000  0.000000  0.000000  0.000000  \n",
      "9510  0.356899  0.000000  0.000000  0.000000  0.000000  0.000000  \n",
      "9511  0.000000  0.832765  0.832765  0.832765  0.000000  0.000000  \n",
      "9512  0.000000  0.000000  0.000000  0.000000  0.098499  0.098499  \n",
      "\n",
      "[9513 rows x 12241 columns]\n"
     ]
    }
   ],
   "source": [
    "# Compute TF-IDF for each document\n",
    "tfidf_data1 = [compute_tfidf(doc, idf1) for doc in data_lemmatized1]\n",
    "\n",
    "# Create DataFrame for TF-IDF\n",
    "tfidf_df1 = pd.DataFrame(tfidf_data1).fillna(0)\n",
    "print(\"\\nTF-IDF df1 Scores:\")\n",
    "print(tfidf_df1)"
   ]
  },
  {
   "cell_type": "code",
   "execution_count": 42,
   "id": "48398422",
   "metadata": {},
   "outputs": [
    {
     "name": "stdout",
     "output_type": "stream",
     "text": [
      "\n",
      "TF-IDF df2 Scores:\n",
      "        bought   several  vitality    canned       dog      food   product  \\\n",
      "0     0.110276  0.149286  0.350513  0.189408  0.127303  0.093837  0.199369   \n",
      "1     0.000000  0.000000  0.000000  0.000000  0.000000  0.000000  0.169833   \n",
      "2     0.000000  0.000000  0.000000  0.000000  0.000000  0.000000  0.000000   \n",
      "3     0.000000  0.000000  0.000000  0.000000  0.000000  0.000000  0.000000   \n",
      "4     0.000000  0.000000  0.000000  0.000000  0.000000  0.000000  0.000000   \n",
      "...        ...       ...       ...       ...       ...       ...       ...   \n",
      "9508  0.000000  0.000000  0.000000  0.000000  0.000000  0.053956  0.076425   \n",
      "9509  0.000000  0.000000  0.000000  0.000000  0.000000  0.000000  0.000000   \n",
      "9510  0.000000  0.000000  0.000000  0.000000  0.000000  0.000000  0.019851   \n",
      "9511  0.000000  0.000000  0.000000  0.000000  0.000000  0.000000  0.000000   \n",
      "9512  0.000000  0.000000  0.000000  0.000000  0.000000  0.000000  0.000000   \n",
      "\n",
      "         found      good   quality  ...  misinformative  progressively  \\\n",
      "0     0.108467  0.056465  0.127047  ...             0.0        0.00000   \n",
      "1     0.000000  0.000000  0.000000  ...             0.0        0.00000   \n",
      "2     0.000000  0.000000  0.000000  ...             0.0        0.00000   \n",
      "3     0.138596  0.072149  0.000000  ...             0.0        0.00000   \n",
      "4     0.000000  0.000000  0.000000  ...             0.0        0.00000   \n",
      "...        ...       ...       ...  ...             ...            ...   \n",
      "9508  0.000000  0.000000  0.000000  ...             0.0        0.22901   \n",
      "9509  0.000000  0.000000  0.000000  ...             0.0        0.00000   \n",
      "9510  0.032399  0.000000  0.000000  ...             0.0        0.00000   \n",
      "9511  0.000000  0.000000  0.000000  ...             0.0        0.00000   \n",
      "9512  0.000000  0.000000  0.000000  ...             0.0        0.00000   \n",
      "\n",
      "      worsening  breastfeed    hexane  delieved   delievy  formular   midwife  \\\n",
      "0       0.00000    0.000000  0.000000  0.000000  0.000000  0.000000  0.000000   \n",
      "1       0.00000    0.000000  0.000000  0.000000  0.000000  0.000000  0.000000   \n",
      "2       0.00000    0.000000  0.000000  0.000000  0.000000  0.000000  0.000000   \n",
      "3       0.00000    0.000000  0.000000  0.000000  0.000000  0.000000  0.000000   \n",
      "4       0.00000    0.000000  0.000000  0.000000  0.000000  0.000000  0.000000   \n",
      "...         ...         ...       ...       ...       ...       ...       ...   \n",
      "9508    0.22901    0.000000  0.000000  0.000000  0.000000  0.000000  0.000000   \n",
      "9509    0.00000    0.000000  0.000000  0.000000  0.000000  0.000000  0.000000   \n",
      "9510    0.00000    0.118966  0.356899  0.000000  0.000000  0.000000  0.000000   \n",
      "9511    0.00000    0.000000  0.000000  0.832765  0.832765  0.832765  0.000000   \n",
      "9512    0.00000    0.000000  0.000000  0.000000  0.000000  0.000000  0.098499   \n",
      "\n",
      "         amazn  \n",
      "0     0.000000  \n",
      "1     0.000000  \n",
      "2     0.000000  \n",
      "3     0.000000  \n",
      "4     0.000000  \n",
      "...        ...  \n",
      "9508  0.000000  \n",
      "9509  0.000000  \n",
      "9510  0.000000  \n",
      "9511  0.000000  \n",
      "9512  0.098499  \n",
      "\n",
      "[9513 rows x 15956 columns]\n"
     ]
    }
   ],
   "source": [
    "# Compute TF-IDF for each document\n",
    "tfidf_data2 = [compute_tfidf(doc, idf2) for doc in data_lemmatized2]\n",
    "\n",
    "# Create DataFrame for TF-IDF\n",
    "tfidf_df2 = pd.DataFrame(tfidf_data2).fillna(0)\n",
    "print(\"\\nTF-IDF df2 Scores:\")\n",
    "print(tfidf_df2)"
   ]
  },
  {
   "cell_type": "markdown",
   "id": "dda15894-8062-4b9c-a7ca-9d9eab53b60d",
   "metadata": {},
   "source": [
    "# Task 3\n"
   ]
  },
  {
   "cell_type": "markdown",
   "id": "372b4e26-5b1f-40e4-894f-2d67b2dd8d78",
   "metadata": {},
   "source": [
    "MODEL SELECTION"
   ]
  },
  {
   "cell_type": "code",
   "execution_count": 53,
   "id": "6d198efd-235a-41a1-85eb-02c069eca06a",
   "metadata": {},
   "outputs": [],
   "source": [
    "data['Score'] = data['Score'].replace({1: 'negative', 2: 'negative', 3: 'neutral', 4: 'positive', 5: 'positive'})"
   ]
  },
  {
   "cell_type": "code",
   "execution_count": 58,
   "id": "5e8fda00-60fc-4631-8dad-fadbf97a1f67",
   "metadata": {},
   "outputs": [
    {
     "name": "stdout",
     "output_type": "stream",
     "text": [
      "extracted data saved to: extracteddata.csv\n"
     ]
    },
    {
     "data": {
      "text/html": [
       "<div>\n",
       "<style scoped>\n",
       "    .dataframe tbody tr th:only-of-type {\n",
       "        vertical-align: middle;\n",
       "    }\n",
       "\n",
       "    .dataframe tbody tr th {\n",
       "        vertical-align: top;\n",
       "    }\n",
       "\n",
       "    .dataframe thead th {\n",
       "        text-align: right;\n",
       "    }\n",
       "</style>\n",
       "<table border=\"1\" class=\"dataframe\">\n",
       "  <thead>\n",
       "    <tr style=\"text-align: right;\">\n",
       "      <th></th>\n",
       "      <th>Id</th>\n",
       "      <th>ProductId</th>\n",
       "      <th>UserId</th>\n",
       "      <th>ProfileName</th>\n",
       "      <th>HelpfulnessNumerator</th>\n",
       "      <th>HelpfulnessDenominator</th>\n",
       "      <th>Score</th>\n",
       "      <th>Time</th>\n",
       "      <th>Summary</th>\n",
       "      <th>Text</th>\n",
       "      <th>text_clean</th>\n",
       "      <th>message_clean</th>\n",
       "    </tr>\n",
       "  </thead>\n",
       "  <tbody>\n",
       "    <tr>\n",
       "      <th>0</th>\n",
       "      <td>1</td>\n",
       "      <td>B001E4KFG0</td>\n",
       "      <td>A3SGXH7AUHU8GW</td>\n",
       "      <td>delmartian</td>\n",
       "      <td>1</td>\n",
       "      <td>1</td>\n",
       "      <td>positive</td>\n",
       "      <td>1303862400</td>\n",
       "      <td>Good Quality Dog Food</td>\n",
       "      <td>I have bought several of the Vitality canned d...</td>\n",
       "      <td>[bought, sever, vital, can, dog, food, product...</td>\n",
       "      <td>bought sever vital can dog food product found ...</td>\n",
       "    </tr>\n",
       "    <tr>\n",
       "      <th>1</th>\n",
       "      <td>2</td>\n",
       "      <td>B00813GRG4</td>\n",
       "      <td>A1D87F6ZCVE5NK</td>\n",
       "      <td>dll pa</td>\n",
       "      <td>0</td>\n",
       "      <td>0</td>\n",
       "      <td>negative</td>\n",
       "      <td>1346976000</td>\n",
       "      <td>Not as Advertised</td>\n",
       "      <td>Product arrived labeled as Jumbo Salted Peanut...</td>\n",
       "      <td>[product, arriv, label, jumbo, salt, peanut, p...</td>\n",
       "      <td>product arriv label jumbo salt peanutsth peanu...</td>\n",
       "    </tr>\n",
       "    <tr>\n",
       "      <th>2</th>\n",
       "      <td>3</td>\n",
       "      <td>B000LQOCH0</td>\n",
       "      <td>ABXLMWJIXXAIN</td>\n",
       "      <td>Natalia Corres \"Natalia Corres\"</td>\n",
       "      <td>1</td>\n",
       "      <td>1</td>\n",
       "      <td>positive</td>\n",
       "      <td>1219017600</td>\n",
       "      <td>\"Delight\" says it all</td>\n",
       "      <td>This is a confection that has been around a fe...</td>\n",
       "      <td>[confect, around, centuri, light, pillowi, cit...</td>\n",
       "      <td>confect around centuri  light pillowi citrus g...</td>\n",
       "    </tr>\n",
       "    <tr>\n",
       "      <th>3</th>\n",
       "      <td>4</td>\n",
       "      <td>B000UA0QIQ</td>\n",
       "      <td>A395BORC6FGVXV</td>\n",
       "      <td>Karl</td>\n",
       "      <td>3</td>\n",
       "      <td>3</td>\n",
       "      <td>negative</td>\n",
       "      <td>1307923200</td>\n",
       "      <td>Cough Medicine</td>\n",
       "      <td>If you are looking for the secret ingredient i...</td>\n",
       "      <td>[look, secret, ingredi, robitussin, believ, fo...</td>\n",
       "      <td>look secret ingredi robitussin believ found  g...</td>\n",
       "    </tr>\n",
       "    <tr>\n",
       "      <th>4</th>\n",
       "      <td>5</td>\n",
       "      <td>B006K2ZZ7K</td>\n",
       "      <td>A1UQRSCLF8GW1T</td>\n",
       "      <td>Michael D. Bigham \"M. Wassir\"</td>\n",
       "      <td>0</td>\n",
       "      <td>0</td>\n",
       "      <td>positive</td>\n",
       "      <td>1350777600</td>\n",
       "      <td>Great taffy</td>\n",
       "      <td>Great taffy at a great price.  There was a wid...</td>\n",
       "      <td>[great, taffi, great, price, wide, assort, yum...</td>\n",
       "      <td>great taffi great price  wide assort yummi taf...</td>\n",
       "    </tr>\n",
       "    <tr>\n",
       "      <th>5</th>\n",
       "      <td>6</td>\n",
       "      <td>B006K2ZZ7K</td>\n",
       "      <td>ADT0SRK1MGOEU</td>\n",
       "      <td>Twoapennything</td>\n",
       "      <td>0</td>\n",
       "      <td>0</td>\n",
       "      <td>positive</td>\n",
       "      <td>1342051200</td>\n",
       "      <td>Nice Taffy</td>\n",
       "      <td>I got a wild hair for taffy and ordered this f...</td>\n",
       "      <td>[got, wild, hair, taffi, order, five, pound, b...</td>\n",
       "      <td>got wild hair taffi order five pound bag taffi...</td>\n",
       "    </tr>\n",
       "    <tr>\n",
       "      <th>6</th>\n",
       "      <td>7</td>\n",
       "      <td>B006K2ZZ7K</td>\n",
       "      <td>A1SP2KVKFXXRU1</td>\n",
       "      <td>David C. Sullivan</td>\n",
       "      <td>0</td>\n",
       "      <td>0</td>\n",
       "      <td>positive</td>\n",
       "      <td>1340150400</td>\n",
       "      <td>Great!  Just as good as the expensive brands!</td>\n",
       "      <td>This saltwater taffy had great flavors and was...</td>\n",
       "      <td>[saltwat, taffi, great, flavor, soft, chewi, c...</td>\n",
       "      <td>saltwat taffi great flavor soft chewi  candi i...</td>\n",
       "    </tr>\n",
       "    <tr>\n",
       "      <th>7</th>\n",
       "      <td>8</td>\n",
       "      <td>B006K2ZZ7K</td>\n",
       "      <td>A3JRGQVEQN31IQ</td>\n",
       "      <td>Pamela G. Williams</td>\n",
       "      <td>0</td>\n",
       "      <td>0</td>\n",
       "      <td>positive</td>\n",
       "      <td>1336003200</td>\n",
       "      <td>Wonderful, tasty taffy</td>\n",
       "      <td>This taffy is so good.  It is very soft and ch...</td>\n",
       "      <td>[taffi, good, soft, chewi, flavor, amaz, would...</td>\n",
       "      <td>taffi good  soft chewi  flavor amaz  would def...</td>\n",
       "    </tr>\n",
       "    <tr>\n",
       "      <th>8</th>\n",
       "      <td>9</td>\n",
       "      <td>B000E7L2R4</td>\n",
       "      <td>A1MZYO9TZK0BBI</td>\n",
       "      <td>R. James</td>\n",
       "      <td>1</td>\n",
       "      <td>1</td>\n",
       "      <td>positive</td>\n",
       "      <td>1322006400</td>\n",
       "      <td>Yay Barley</td>\n",
       "      <td>Right now I'm mostly just sprouting this so my...</td>\n",
       "      <td>[right, mostli, sprout, cat, eat, grass, love,...</td>\n",
       "      <td>right im most sprout cat eat grass love rotat ...</td>\n",
       "    </tr>\n",
       "    <tr>\n",
       "      <th>9</th>\n",
       "      <td>10</td>\n",
       "      <td>B00171APVA</td>\n",
       "      <td>A21BT40VZCCYT4</td>\n",
       "      <td>Carol A. Reed</td>\n",
       "      <td>0</td>\n",
       "      <td>0</td>\n",
       "      <td>positive</td>\n",
       "      <td>1351209600</td>\n",
       "      <td>Healthy Dog Food</td>\n",
       "      <td>This is a very healthy dog food. Good for thei...</td>\n",
       "      <td>[healthi, dog, food, good, digest, also, good,...</td>\n",
       "      <td>healthi dog food good digest also good small p...</td>\n",
       "    </tr>\n",
       "    <tr>\n",
       "      <th>10</th>\n",
       "      <td>11</td>\n",
       "      <td>B0001PB9FE</td>\n",
       "      <td>A3HDKO7OW0QNK4</td>\n",
       "      <td>Canadian Fan</td>\n",
       "      <td>1</td>\n",
       "      <td>1</td>\n",
       "      <td>positive</td>\n",
       "      <td>1107820800</td>\n",
       "      <td>The Best Hot Sauce in the World</td>\n",
       "      <td>I don't know if it's the cactus or the tequila...</td>\n",
       "      <td>[know, cactu, tequila, uniqu, combin, ingredi,...</td>\n",
       "      <td>dont know cactus tequila uniqu combin ingredi ...</td>\n",
       "    </tr>\n",
       "    <tr>\n",
       "      <th>11</th>\n",
       "      <td>12</td>\n",
       "      <td>B0009XLVG0</td>\n",
       "      <td>A2725IB4YY9JEB</td>\n",
       "      <td>A Poeng \"SparkyGoHome\"</td>\n",
       "      <td>4</td>\n",
       "      <td>4</td>\n",
       "      <td>positive</td>\n",
       "      <td>1282867200</td>\n",
       "      <td>My cats LOVE this \"diet\" food better than thei...</td>\n",
       "      <td>One of my boys needed to lose some weight and ...</td>\n",
       "      <td>[one, boy, need, lose, weight, put, food, floo...</td>\n",
       "      <td>one boy need lose weight didnt  put food floor...</td>\n",
       "    </tr>\n",
       "    <tr>\n",
       "      <th>12</th>\n",
       "      <td>13</td>\n",
       "      <td>B0009XLVG0</td>\n",
       "      <td>A327PCT23YH90</td>\n",
       "      <td>LT</td>\n",
       "      <td>1</td>\n",
       "      <td>1</td>\n",
       "      <td>negative</td>\n",
       "      <td>1339545600</td>\n",
       "      <td>My Cats Are Not Fans of the New Food</td>\n",
       "      <td>My cats have been happily eating Felidae Plati...</td>\n",
       "      <td>[cat, happili, eat, felida, platinum, two, yea...</td>\n",
       "      <td>cat happili eat felida platinum two year got n...</td>\n",
       "    </tr>\n",
       "    <tr>\n",
       "      <th>13</th>\n",
       "      <td>14</td>\n",
       "      <td>B001GVISJM</td>\n",
       "      <td>A18ECVX2RJ7HUE</td>\n",
       "      <td>willie \"roadie\"</td>\n",
       "      <td>2</td>\n",
       "      <td>2</td>\n",
       "      <td>positive</td>\n",
       "      <td>1288915200</td>\n",
       "      <td>fresh and greasy!</td>\n",
       "      <td>good flavor! these came securely packed... the...</td>\n",
       "      <td>[good, flavor, came, secur, pack, fresh, delic...</td>\n",
       "      <td>good flavor came secur pack fresh delici love ...</td>\n",
       "    </tr>\n",
       "    <tr>\n",
       "      <th>14</th>\n",
       "      <td>15</td>\n",
       "      <td>B001GVISJM</td>\n",
       "      <td>A2MUGFV2TDQ47K</td>\n",
       "      <td>Lynrie \"Oh HELL no\"</td>\n",
       "      <td>4</td>\n",
       "      <td>5</td>\n",
       "      <td>positive</td>\n",
       "      <td>1268352000</td>\n",
       "      <td>Strawberry Twizzlers - Yummy</td>\n",
       "      <td>The Strawberry Twizzlers are my guilty pleasur...</td>\n",
       "      <td>[strawberri, twizzler, guilti, pleasur, yummi,...</td>\n",
       "      <td>strawberri twizzler guilti pleasur  yummi six ...</td>\n",
       "    </tr>\n",
       "    <tr>\n",
       "      <th>15</th>\n",
       "      <td>16</td>\n",
       "      <td>B001GVISJM</td>\n",
       "      <td>A1CZX3CP8IKQIJ</td>\n",
       "      <td>Brian A. Lee</td>\n",
       "      <td>4</td>\n",
       "      <td>5</td>\n",
       "      <td>positive</td>\n",
       "      <td>1262044800</td>\n",
       "      <td>Lots of twizzlers, just what you expect.</td>\n",
       "      <td>My daughter loves twizzlers and this shipment ...</td>\n",
       "      <td>[daughter, love, twizzler, shipment, six, poun...</td>\n",
       "      <td>daughter love twizzler shipment six pound real...</td>\n",
       "    </tr>\n",
       "    <tr>\n",
       "      <th>16</th>\n",
       "      <td>17</td>\n",
       "      <td>B001GVISJM</td>\n",
       "      <td>A3KLWF6WQ5BNYO</td>\n",
       "      <td>Erica Neathery</td>\n",
       "      <td>0</td>\n",
       "      <td>0</td>\n",
       "      <td>negative</td>\n",
       "      <td>1348099200</td>\n",
       "      <td>poor taste</td>\n",
       "      <td>I love eating them and they are good for watch...</td>\n",
       "      <td>[love, eat, good, watch, tv, look, movi, sweet...</td>\n",
       "      <td>love eat good watch tv look movi sweet like tr...</td>\n",
       "    </tr>\n",
       "    <tr>\n",
       "      <th>17</th>\n",
       "      <td>18</td>\n",
       "      <td>B001GVISJM</td>\n",
       "      <td>AFKW14U97Z6QO</td>\n",
       "      <td>Becca</td>\n",
       "      <td>0</td>\n",
       "      <td>0</td>\n",
       "      <td>positive</td>\n",
       "      <td>1345075200</td>\n",
       "      <td>Love it!</td>\n",
       "      <td>I am very satisfied with my Twizzler purchase....</td>\n",
       "      <td>[satisfi, twizzler, purchas, share, other, enj...</td>\n",
       "      <td>satisfi twizzler purchas  share other enjoy  d...</td>\n",
       "    </tr>\n",
       "    <tr>\n",
       "      <th>18</th>\n",
       "      <td>19</td>\n",
       "      <td>B001GVISJM</td>\n",
       "      <td>A2A9X58G2GTBLP</td>\n",
       "      <td>Wolfee1</td>\n",
       "      <td>0</td>\n",
       "      <td>0</td>\n",
       "      <td>positive</td>\n",
       "      <td>1324598400</td>\n",
       "      <td>GREAT SWEET CANDY!</td>\n",
       "      <td>Twizzlers, Strawberry my childhood favorite ca...</td>\n",
       "      <td>[twizzler, strawberri, childhood, favorit, can...</td>\n",
       "      <td>twizzler strawberri childhood favorit candi ma...</td>\n",
       "    </tr>\n",
       "    <tr>\n",
       "      <th>19</th>\n",
       "      <td>20</td>\n",
       "      <td>B001GVISJM</td>\n",
       "      <td>A3IV7CL2C13K2U</td>\n",
       "      <td>Greg</td>\n",
       "      <td>0</td>\n",
       "      <td>0</td>\n",
       "      <td>positive</td>\n",
       "      <td>1318032000</td>\n",
       "      <td>Home delivered twizlers</td>\n",
       "      <td>Candy was delivered very fast and was purchase...</td>\n",
       "      <td>[candi, deliv, fast, purchas, reason, price, h...</td>\n",
       "      <td>candi deliv fast purchas reason price  home bo...</td>\n",
       "    </tr>\n",
       "  </tbody>\n",
       "</table>\n",
       "</div>"
      ],
      "text/plain": [
       "    Id   ProductId          UserId                      ProfileName  \\\n",
       "0    1  B001E4KFG0  A3SGXH7AUHU8GW                       delmartian   \n",
       "1    2  B00813GRG4  A1D87F6ZCVE5NK                           dll pa   \n",
       "2    3  B000LQOCH0   ABXLMWJIXXAIN  Natalia Corres \"Natalia Corres\"   \n",
       "3    4  B000UA0QIQ  A395BORC6FGVXV                             Karl   \n",
       "4    5  B006K2ZZ7K  A1UQRSCLF8GW1T    Michael D. Bigham \"M. Wassir\"   \n",
       "5    6  B006K2ZZ7K   ADT0SRK1MGOEU                   Twoapennything   \n",
       "6    7  B006K2ZZ7K  A1SP2KVKFXXRU1                David C. Sullivan   \n",
       "7    8  B006K2ZZ7K  A3JRGQVEQN31IQ               Pamela G. Williams   \n",
       "8    9  B000E7L2R4  A1MZYO9TZK0BBI                         R. James   \n",
       "9   10  B00171APVA  A21BT40VZCCYT4                    Carol A. Reed   \n",
       "10  11  B0001PB9FE  A3HDKO7OW0QNK4                     Canadian Fan   \n",
       "11  12  B0009XLVG0  A2725IB4YY9JEB           A Poeng \"SparkyGoHome\"   \n",
       "12  13  B0009XLVG0   A327PCT23YH90                               LT   \n",
       "13  14  B001GVISJM  A18ECVX2RJ7HUE                  willie \"roadie\"   \n",
       "14  15  B001GVISJM  A2MUGFV2TDQ47K              Lynrie \"Oh HELL no\"   \n",
       "15  16  B001GVISJM  A1CZX3CP8IKQIJ                     Brian A. Lee   \n",
       "16  17  B001GVISJM  A3KLWF6WQ5BNYO                   Erica Neathery   \n",
       "17  18  B001GVISJM   AFKW14U97Z6QO                            Becca   \n",
       "18  19  B001GVISJM  A2A9X58G2GTBLP                          Wolfee1   \n",
       "19  20  B001GVISJM  A3IV7CL2C13K2U                             Greg   \n",
       "\n",
       "    HelpfulnessNumerator  HelpfulnessDenominator     Score        Time  \\\n",
       "0                      1                       1  positive  1303862400   \n",
       "1                      0                       0  negative  1346976000   \n",
       "2                      1                       1  positive  1219017600   \n",
       "3                      3                       3  negative  1307923200   \n",
       "4                      0                       0  positive  1350777600   \n",
       "5                      0                       0  positive  1342051200   \n",
       "6                      0                       0  positive  1340150400   \n",
       "7                      0                       0  positive  1336003200   \n",
       "8                      1                       1  positive  1322006400   \n",
       "9                      0                       0  positive  1351209600   \n",
       "10                     1                       1  positive  1107820800   \n",
       "11                     4                       4  positive  1282867200   \n",
       "12                     1                       1  negative  1339545600   \n",
       "13                     2                       2  positive  1288915200   \n",
       "14                     4                       5  positive  1268352000   \n",
       "15                     4                       5  positive  1262044800   \n",
       "16                     0                       0  negative  1348099200   \n",
       "17                     0                       0  positive  1345075200   \n",
       "18                     0                       0  positive  1324598400   \n",
       "19                     0                       0  positive  1318032000   \n",
       "\n",
       "                                              Summary  \\\n",
       "0                               Good Quality Dog Food   \n",
       "1                                   Not as Advertised   \n",
       "2                               \"Delight\" says it all   \n",
       "3                                      Cough Medicine   \n",
       "4                                         Great taffy   \n",
       "5                                          Nice Taffy   \n",
       "6       Great!  Just as good as the expensive brands!   \n",
       "7                              Wonderful, tasty taffy   \n",
       "8                                          Yay Barley   \n",
       "9                                    Healthy Dog Food   \n",
       "10                    The Best Hot Sauce in the World   \n",
       "11  My cats LOVE this \"diet\" food better than thei...   \n",
       "12               My Cats Are Not Fans of the New Food   \n",
       "13                                  fresh and greasy!   \n",
       "14                       Strawberry Twizzlers - Yummy   \n",
       "15           Lots of twizzlers, just what you expect.   \n",
       "16                                         poor taste   \n",
       "17                                           Love it!   \n",
       "18                                 GREAT SWEET CANDY!   \n",
       "19                            Home delivered twizlers   \n",
       "\n",
       "                                                 Text  \\\n",
       "0   I have bought several of the Vitality canned d...   \n",
       "1   Product arrived labeled as Jumbo Salted Peanut...   \n",
       "2   This is a confection that has been around a fe...   \n",
       "3   If you are looking for the secret ingredient i...   \n",
       "4   Great taffy at a great price.  There was a wid...   \n",
       "5   I got a wild hair for taffy and ordered this f...   \n",
       "6   This saltwater taffy had great flavors and was...   \n",
       "7   This taffy is so good.  It is very soft and ch...   \n",
       "8   Right now I'm mostly just sprouting this so my...   \n",
       "9   This is a very healthy dog food. Good for thei...   \n",
       "10  I don't know if it's the cactus or the tequila...   \n",
       "11  One of my boys needed to lose some weight and ...   \n",
       "12  My cats have been happily eating Felidae Plati...   \n",
       "13  good flavor! these came securely packed... the...   \n",
       "14  The Strawberry Twizzlers are my guilty pleasur...   \n",
       "15  My daughter loves twizzlers and this shipment ...   \n",
       "16  I love eating them and they are good for watch...   \n",
       "17  I am very satisfied with my Twizzler purchase....   \n",
       "18  Twizzlers, Strawberry my childhood favorite ca...   \n",
       "19  Candy was delivered very fast and was purchase...   \n",
       "\n",
       "                                           text_clean  \\\n",
       "0   [bought, sever, vital, can, dog, food, product...   \n",
       "1   [product, arriv, label, jumbo, salt, peanut, p...   \n",
       "2   [confect, around, centuri, light, pillowi, cit...   \n",
       "3   [look, secret, ingredi, robitussin, believ, fo...   \n",
       "4   [great, taffi, great, price, wide, assort, yum...   \n",
       "5   [got, wild, hair, taffi, order, five, pound, b...   \n",
       "6   [saltwat, taffi, great, flavor, soft, chewi, c...   \n",
       "7   [taffi, good, soft, chewi, flavor, amaz, would...   \n",
       "8   [right, mostli, sprout, cat, eat, grass, love,...   \n",
       "9   [healthi, dog, food, good, digest, also, good,...   \n",
       "10  [know, cactu, tequila, uniqu, combin, ingredi,...   \n",
       "11  [one, boy, need, lose, weight, put, food, floo...   \n",
       "12  [cat, happili, eat, felida, platinum, two, yea...   \n",
       "13  [good, flavor, came, secur, pack, fresh, delic...   \n",
       "14  [strawberri, twizzler, guilti, pleasur, yummi,...   \n",
       "15  [daughter, love, twizzler, shipment, six, poun...   \n",
       "16  [love, eat, good, watch, tv, look, movi, sweet...   \n",
       "17  [satisfi, twizzler, purchas, share, other, enj...   \n",
       "18  [twizzler, strawberri, childhood, favorit, can...   \n",
       "19  [candi, deliv, fast, purchas, reason, price, h...   \n",
       "\n",
       "                                        message_clean  \n",
       "0   bought sever vital can dog food product found ...  \n",
       "1   product arriv label jumbo salt peanutsth peanu...  \n",
       "2   confect around centuri  light pillowi citrus g...  \n",
       "3   look secret ingredi robitussin believ found  g...  \n",
       "4   great taffi great price  wide assort yummi taf...  \n",
       "5   got wild hair taffi order five pound bag taffi...  \n",
       "6   saltwat taffi great flavor soft chewi  candi i...  \n",
       "7   taffi good  soft chewi  flavor amaz  would def...  \n",
       "8   right im most sprout cat eat grass love rotat ...  \n",
       "9   healthi dog food good digest also good small p...  \n",
       "10  dont know cactus tequila uniqu combin ingredi ...  \n",
       "11  one boy need lose weight didnt  put food floor...  \n",
       "12  cat happili eat felida platinum two year got n...  \n",
       "13  good flavor came secur pack fresh delici love ...  \n",
       "14  strawberri twizzler guilti pleasur  yummi six ...  \n",
       "15  daughter love twizzler shipment six pound real...  \n",
       "16  love eat good watch tv look movi sweet like tr...  \n",
       "17  satisfi twizzler purchas  share other enjoy  d...  \n",
       "18  twizzler strawberri childhood favorit candi ma...  \n",
       "19  candi deliv fast purchas reason price  home bo...  "
      ]
     },
     "execution_count": 58,
     "metadata": {},
     "output_type": "execute_result"
    }
   ],
   "source": [
    "stemmer = nltk.SnowballStemmer(\"english\")\n",
    "def preprocess(text):\n",
    "    text = text.lower()  # Convert text to lowercase\n",
    "    text = re.sub(r'\\[.*?\\]', '', text)  # Remove text within square brackets\n",
    "    text = re.sub(r'http\\S+\\s*\\S+', '', text)  # Remove URLs starting with http\n",
    "    text = re.sub(r'www\\.\\S+', '', text)  # Remove URLs starting with www\n",
    "    text = re.sub(r'<.*?>', '', text)  # Remove HTML tags\n",
    "    text = re.sub(r'[^\\w\\s]', '', text)  # Remove punctuation\n",
    "    text = re.sub(r'\\b\\w*\\d\\w*\\b', '', text)  # Remove words containing numbers\n",
    "    text = ' '.join(word for word in text.split(' ') if word not in stopwords) #remove stopwords\n",
    "    text = ' '.join(stemmer.stem(word) for word in text.split(' ')) #stemming\n",
    "    return text\n",
    "\n",
    "data['message_clean'] = data['Text'].apply(preprocess)\n",
    "\n",
    "\n",
    "output_file_path = 'extracteddata.csv'\n",
    "data.to_csv(output_file_path, index=False)\n",
    "\n",
    "print(\"extracted data saved to:\", output_file_path)\n",
    "data.head(20)"
   ]
  },
  {
   "cell_type": "code",
   "execution_count": 55,
   "id": "8761dc04-ee3b-4c1e-b744-12580b204b84",
   "metadata": {},
   "outputs": [],
   "source": [
    "from sklearn.naive_bayes import MultinomialNB\n",
    "from sklearn.svm import SVC\n",
    "from sklearn.model_selection import train_test_split"
   ]
  },
  {
   "cell_type": "code",
   "execution_count": 56,
   "id": "27741cda-3d53-4457-b34b-90496e87917b",
   "metadata": {},
   "outputs": [],
   "source": [
    "from sklearn.feature_extraction.text import TfidfVectorizer\n",
    "tfidf_vect = TfidfVectorizer()\n",
    "\n",
    "X = tfidf_vect.fit_transform(data['message_clean'])\n",
    "y = data['Score']"
   ]
  },
  {
   "cell_type": "code",
   "execution_count": 48,
   "id": "0a32f0f2-8ab9-432a-96d1-69841e5ab006",
   "metadata": {},
   "outputs": [],
   "source": [
    "# Split data into train & test sets\n",
    "X_train, X_test, y_train, y_test = train_test_split(X, y, random_state=42)"
   ]
  },
  {
   "cell_type": "code",
   "execution_count": 49,
   "id": "a9fb19d1-35d9-4830-9334-0bd7fb671078",
   "metadata": {},
   "outputs": [],
   "source": [
    "# Naive Bayes\n",
    "nb_clf = MultinomialNB().fit(X_train, y_train)\n",
    "\n",
    "# SVM\n",
    "svm_clf = SVC(kernel='linear').fit(X_train, y_train)"
   ]
  },
  {
   "cell_type": "code",
   "execution_count": 50,
   "id": "d3494586-a31f-4573-93d4-1b11581f410f",
   "metadata": {},
   "outputs": [
    {
     "name": "stderr",
     "output_type": "stream",
     "text": [
      "C:\\ProgramData\\anaconda3\\Lib\\site-packages\\sklearn\\metrics\\_classification.py:1469: UndefinedMetricWarning: Precision and F-score are ill-defined and being set to 0.0 in labels with no predicted samples. Use `zero_division` parameter to control this behavior.\n",
      "  _warn_prf(average, modifier, msg_start, len(result))\n",
      "C:\\ProgramData\\anaconda3\\Lib\\site-packages\\sklearn\\metrics\\_classification.py:1469: UndefinedMetricWarning: Precision and F-score are ill-defined and being set to 0.0 in labels with no predicted samples. Use `zero_division` parameter to control this behavior.\n",
      "  _warn_prf(average, modifier, msg_start, len(result))\n",
      "C:\\ProgramData\\anaconda3\\Lib\\site-packages\\sklearn\\metrics\\_classification.py:1469: UndefinedMetricWarning: Precision and F-score are ill-defined and being set to 0.0 in labels with no predicted samples. Use `zero_division` parameter to control this behavior.\n",
      "  _warn_prf(average, modifier, msg_start, len(result))\n"
     ]
    }
   ],
   "source": [
    "# Performance metrics comparison\n",
    "from sklearn.metrics import classification_report, confusion_matrix\n",
    "from sklearn.metrics import accuracy_score  # Importing accuracy_score\n",
    "\n",
    "# Naive Bayes\n",
    "nb_predicted = nb_clf.predict(X_test)\n",
    "nb_report = classification_report(y_test, nb_predicted)\n",
    "# Calculate error rate for Naive Bayes\n",
    "nb_error_rate = 1 - accuracy_score(y_test, nb_predicted)\n",
    "nb_cm = confusion_matrix(y_test, nb_predicted)\n",
    "\n",
    "# SVM\n",
    "svm_predicted = svm_clf.predict(X_test)\n",
    "svm_report = classification_report(y_test, svm_predicted)\n",
    "# Calculate error rate for SVM\n",
    "svm_error_rate = 1 - accuracy_score(y_test, svm_predicted)\n",
    "svm_cm = confusion_matrix(y_test, svm_predicted)"
   ]
  },
  {
   "cell_type": "code",
   "execution_count": 51,
   "id": "caa3fdc7-04dd-45c4-b2ca-15cac9b8b86e",
   "metadata": {},
   "outputs": [
    {
     "data": {
      "text/plain": [
       "array([[   0,    0,  396],\n",
       "       [   0,    0,  206],\n",
       "       [   0,    0, 1898]], dtype=int64)"
      ]
     },
     "execution_count": 51,
     "metadata": {},
     "output_type": "execute_result"
    }
   ],
   "source": [
    "nb_cm"
   ]
  },
  {
   "cell_type": "code",
   "execution_count": 52,
   "id": "196448cf-906f-47ab-909d-1e2fcc9be701",
   "metadata": {},
   "outputs": [
    {
     "data": {
      "image/png": "[encoded data removed]",
      "text/plain": [
       "<Figure size 800x600 with 2 Axes>"
      ]
     },
     "metadata": {},
     "output_type": "display_data"
    },
    {
     "name": "stdout",
     "output_type": "stream",
     "text": [
      "Naive Bayes Classifier Report:\n",
      "              precision    recall  f1-score   support\n",
      "\n",
      "    negative       0.00      0.00      0.00       396\n",
      "     neutral       0.00      0.00      0.00       206\n",
      "    positive       0.76      1.00      0.86      1898\n",
      "\n",
      "    accuracy                           0.76      2500\n",
      "   macro avg       0.25      0.33      0.29      2500\n",
      "weighted avg       0.58      0.76      0.66      2500\n",
      "\n",
      "\n",
      "Naive Bayes Error Rate: 0.24\n"
     ]
    },
    {
     "data": {
      "image/png": "[encoded data removed]",
      "text/plain": [
       "<Figure size 800x600 with 2 Axes>"
      ]
     },
     "metadata": {},
     "output_type": "display_data"
    },
    {
     "name": "stdout",
     "output_type": "stream",
     "text": [
      "\n",
      "SVM Classifier Report:\n",
      "              precision    recall  f1-score   support\n",
      "\n",
      "    negative       0.79      0.49      0.61       396\n",
      "     neutral       0.61      0.10      0.17       206\n",
      "    positive       0.84      0.98      0.91      1898\n",
      "\n",
      "    accuracy                           0.83      2500\n",
      "   macro avg       0.75      0.52      0.56      2500\n",
      "weighted avg       0.81      0.83      0.80      2500\n",
      "\n",
      "\n",
      "SVM Error Rate: 0.17\n"
     ]
    }
   ],
   "source": [
    "import matplotlib.pyplot as plt\n",
    "import seaborn as sns\n",
    "\n",
    "# Function to plot confusion matrix\n",
    "def plot_confusion_matrix(cm, classes, title='Confusion matrix', cmap=plt.cm.Blues):\n",
    "    plt.figure(figsize=(8, 6))\n",
    "    sns.heatmap(cm, annot=True, fmt='d', cmap=cmap, xticklabels=classes, yticklabels=classes)\n",
    "    plt.title(title)\n",
    "    plt.xlabel('Predicted label')\n",
    "    plt.ylabel('True label')\n",
    "    plt.show()\n",
    "\n",
    "# Plot confusion matrix for Naive Bayes\n",
    "plot_confusion_matrix(nb_cm, classes=['negative', 'neutral','positive'], title='Naive Bayes Confusion Matrix')\n",
    "\n",
    "print(\"Naive Bayes Classifier Report:\")\n",
    "print(nb_report)\n",
    "print(f\"\\nNaive Bayes Error Rate: {nb_error_rate:.2f}\")\n",
    "\n",
    "# Plot confusion matrix for SVM\n",
    "plot_confusion_matrix(svm_cm, classes=['negative','neutral', 'positive'], title='SVM Confusion Matrix')\n",
    "\n",
    "print(\"\\nSVM Classifier Report:\")\n",
    "print(svm_report)\n",
    "print(f\"\\nSVM Error Rate: {svm_error_rate:.2f}\")"
   ]
  },
  {
   "cell_type": "markdown",
   "id": "0ffc42c6",
   "metadata": {},
   "source": [
    "# Task 5\n",
    "## Strength and Weakness of Sentiment Classification (Naive Bayes)"
   ]
  },
  {
   "cell_type": "markdown",
   "id": "6e3058c8",
   "metadata": {
    "jp-MarkdownHeadingCollapsed": true
   },
   "source": [
    "### Strength Naive Bayes\n",
    "### 1. Efficiency: Naive Bayes is highly efficient in terms of computational resources. It requires a relatively small amount of data to estimate the necessary parameters (probabilities), making it fast for both training and prediction.\n",
    "### 2. Simplicity: The algorithm is straightforward to implement and understand. It works by applying Bayes' theorem, assuming independence between features.\n",
    "### 3. Performance: Despite its simplicity, Naive Bayes can perform quite well, especially in binary classification tasks like sentiment analysis. It often competes well with more complex models, particularly when the dataset features are independent."
   ]
  },
  {
   "cell_type": "markdown",
   "id": "91e2cec4",
   "metadata": {},
   "source": [
    "### Weakness Naive Bayes\n",
    "### 1. Feature relevance: Naive Bayes treats all features as equally important, which is not always the case. Some features might be more indicative of sentiment than others, and the model does not have the capacity to learn feature relevance.\n",
    "### 2. Data scarcity: Naive Bayes can suffer from a problem known as \"zero-frequency,\" where if a categorical variable has a category in the test data set, which was not observed in the training data set, it will assign a zero probability and will be unable to make a prediction. This can be somewhat mitigated with techniques like Laplace smoothing.\n",
    "### 3. Probability estimates: While Naive Bayes is good for classification, the probability estimates it provides are not always reliable, especially when the independence assumption does not hold. This can be problematic if precise probability outputs are required."
   ]
  },
  {
   "cell_type": "markdown",
   "id": "12485920-0007-42b1-8056-bf017767bdf8",
   "metadata": {},
   "source": [
    "# SVM Strength"
   ]
  },
  {
   "cell_type": "markdown",
   "id": "23dd5276-2711-4817-869a-0ee47fa7e6dc",
   "metadata": {},
   "source": [
    "### 1. Versatile: SVM supports different kernel functions, allowing flexibility in modeling complex relationships in the data.\n",
    "\n",
    "### 2. Control over regularization: SVM provides control over the regularization parameter, allowing users to fine-tune the model's complexity and prevent overfitting.\n",
    "\n",
    "### 3. Well-Suited for Text Classification: SVMs are widely used in text classification tasks, such as sentiment analysis and document categorization, due to their ability to handle high-dimensional sparse data efficiently."
   ]
  },
  {
   "cell_type": "markdown",
   "id": "4656a120-bbed-409b-a186-acff35e782f9",
   "metadata": {},
   "source": [
    "# SVM Weaknesses"
   ]
  },
  {
   "cell_type": "markdown",
   "id": "428feec4-a25e-4264-8199-7514b5bd6cdd",
   "metadata": {},
   "source": [
    "### 1. Lack of interpretability: SVM models are not inherently interpretable, making it difficult to understand the rationale behind the model's predictions.\n",
    "\n",
    "### 2. Computationally intensive: Training an SVM model can be computationally expensive, especially with large datasets.\n",
    "\n",
    "# Scaling with Sample Size: SVM's training time and memory requirements scale poorly with the size of the dataset. As the number of samples increases, the training time and memory consumption also increase, limiting its scalability to very large datasets."
   ]
  },
  {
   "cell_type": "code",
   "execution_count": null,
   "id": "35727544-3f82-4ad0-8af4-615a8e6e9e53",
   "metadata": {},
   "outputs": [],
   "source": []
  }
 ],
 "metadata": {
  "kernelspec": {
   "display_name": "Python 3 (ipykernel)",
   "language": "python",
   "name": "python3"
  },
  "language_info": {
   "codemirror_mode": {
    "name": "ipython",
    "version": 3
   },
   "file_extension": ".py",
   "mimetype": "text/x-python",
   "name": "python",
   "nbconvert_exporter": "python",
   "pygments_lexer": "ipython3",
   "version": "3.11.5"
  }
 },
 "nbformat": 4,
 "nbformat_minor": 5
}
