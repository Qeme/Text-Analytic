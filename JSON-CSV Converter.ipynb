{
 "cells": [
  {
   "cell_type": "code",
   "execution_count": 1,
   "id": "f1036d38",
   "metadata": {},
   "outputs": [
    {
     "name": "stdout",
     "output_type": "stream",
     "text": [
      "File saved: C:\\Users\\Qeme\\Documents\\Steam Reviews - Text Analytic Project\\output\\review_1245620_converted.csv\n",
      "File saved: C:\\Users\\Qeme\\Documents\\Steam Reviews - Text Analytic Project\\output\\review_553850_converted.csv\n",
      "File saved: C:\\Users\\Qeme\\Documents\\Steam Reviews - Text Analytic Project\\output\\review_1846380_converted.csv\n"
     ]
    }
   ],
   "source": [
    "import json\n",
    "import pandas as pd\n",
    "import datetime\n",
    "import os\n",
    "\n",
    "# Base directory for input and output files\n",
    "base_path = \"C:\\\\Users\\\\Qeme\\\\Documents\\\\Steam Reviews - Text Analytic Project\"\n",
    "\n",
    "# List of JSON file paths\n",
    "json_files = [\n",
    "    os.path.join(base_path, \"data\", \"review_1245620.json\"),\n",
    "    os.path.join(base_path, \"data\", \"review_553850.json\"),\n",
    "    os.path.join(base_path, \"data\", \"review_1846380.json\")\n",
    "]\n",
    "\n",
    "# Process each JSON file\n",
    "for file_path in json_files:\n",
    "    # Load the JSON data\n",
    "    with open(file_path, \"r\") as file:\n",
    "        data = json.load(file)\n",
    "\n",
    "    # Extract the desired data\n",
    "    reviews_data = []\n",
    "    for review_id, details in data['reviews'].items():\n",
    "        reviews_data.append({\n",
    "            \"INDEX\": review_id,\n",
    "            \"AUTHOR\": details['author']['steamid'],\n",
    "            \"REVIEW\": details['review'],\n",
    "            \"DATE\": details['timestamp_created'],\n",
    "            \"POSITIVE\": details['voted_up']\n",
    "        })\n",
    "\n",
    "    # Create a DataFrame\n",
    "    reviews_df = pd.DataFrame(reviews_data)\n",
    "    reviews_df.set_index(\"INDEX\", inplace=True)\n",
    "\n",
    "    # Convert 'DATE' from timestamp to 'DD/MM/YYYY' format\n",
    "    reviews_df['DATE'] = pd.to_datetime(reviews_df['DATE'], unit='s').dt.strftime('%d/%m/%Y')\n",
    "\n",
    "    # Define the CSV file path (name it according to the JSON file)\n",
    "    output_path = os.path.join(base_path, \"output\")\n",
    "    csv_file_name = f\"{os.path.splitext(os.path.basename(file_path))[0]}_converted.csv\"\n",
    "    csv_file_path = os.path.join(output_path, csv_file_name)\n",
    "\n",
    "    # Save the DataFrame to CSV\n",
    "    reviews_df.to_csv(csv_file_path)\n",
    "    print(f\"File saved: {csv_file_path}\")"
   ]
  }
 ],
 "metadata": {
  "kernelspec": {
   "display_name": "Python 3 (ipykernel)",
   "language": "python",
   "name": "python3"
  },
  "language_info": {
   "codemirror_mode": {
    "name": "ipython",
    "version": 3
   },
   "file_extension": ".py",
   "mimetype": "text/x-python",
   "name": "python",
   "nbconvert_exporter": "python",
   "pygments_lexer": "ipython3",
   "version": "3.11.5"
  }
 },
 "nbformat": 4,
 "nbformat_minor": 5
}
