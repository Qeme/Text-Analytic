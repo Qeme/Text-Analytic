{
 "cells": [
  {
   "cell_type": "markdown",
   "id": "a1ed32cd",
   "metadata": {},
   "source": [
    "# Name: Wan Muhammad Luqman "
   ]
  },
  {
   "cell_type": "code",
   "execution_count": 5,
   "id": "807788b2",
   "metadata": {},
   "outputs": [],
   "source": [
    "#importing regular expression library \n",
    "import re "
   ]
  },
  {
   "cell_type": "markdown",
   "id": "8d4baed1",
   "metadata": {},
   "source": [
    "### re.match() \n",
    "#### check for a match at the beginning of a string"
   ]
  },
  {
   "cell_type": "code",
   "execution_count": 9,
   "id": "690a2639",
   "metadata": {},
   "outputs": [
    {
     "name": "stdout",
     "output_type": "stream",
     "text": [
      "<re.Match object; span=(0, 1), match='I'>\n"
     ]
    }
   ],
   "source": [
    "#using re.match \n",
    "#to find the first occurrence of the letter 'I' in the string \n",
    " \n",
    "sentence1 = re.match (r'I', 'I am learning text analytics') \n",
    "print (sentence1) \n",
    "\n",
    "# <re.Match object; span = (0, 1), match='I'> \n",
    "# The output shows a match because the letter 'I' is at the beginning of the string"
   ]
  },
  {
   "cell_type": "code",
   "execution_count": 11,
   "id": "87f7f774",
   "metadata": {},
   "outputs": [
    {
     "name": "stdout",
     "output_type": "stream",
     "text": [
      "None\n"
     ]
    }
   ],
   "source": [
    "#use another examples\n",
    " \n",
    "sentence2 = re.match (r'v', 'I am learning text analytics') \n",
    "print (sentence2) \n",
    "\n",
    "#The output shows None because the letter 'v' does not exist at the beginning of the string"
   ]
  },
  {
   "cell_type": "code",
   "execution_count": 15,
   "id": "cc90b70f",
   "metadata": {},
   "outputs": [
    {
     "name": "stdout",
     "output_type": "stream",
     "text": [
      "None\n"
     ]
    }
   ],
   "source": [
    "#use another examples\n",
    "\n",
    "sentence3 = re.match (r'am', 'I am learning text analytics') \n",
    "print (sentence3) \n",
    "\n",
    "#The output shows None because the word 'am' does not exist at the beginning of the string"
   ]
  },
  {
   "cell_type": "markdown",
   "id": "09c2e3a5",
   "metadata": {},
   "source": [
    "### re.research()\n",
    "#### find the first occurrence of a pattern in a string regardless of the location"
   ]
  },
  {
   "cell_type": "code",
   "execution_count": 17,
   "id": "7d83c9a7",
   "metadata": {},
   "outputs": [
    {
     "name": "stdout",
     "output_type": "stream",
     "text": [
      "<re.Match object; span=(2, 4), match='am'>\n"
     ]
    }
   ],
   "source": [
    "sentence4 = re.search(r'am', 'I am learning text analytics')\n",
    "print (sentence4)  \n",
    "\n",
    "#The output shows a match because the word 'am' exists in the string"
   ]
  },
  {
   "cell_type": "code",
   "execution_count": 19,
   "id": "fc332d0a",
   "metadata": {},
   "outputs": [
    {
     "name": "stdout",
     "output_type": "stream",
     "text": [
      "<re.Match object; span=(2, 4), match='am'>\n"
     ]
    }
   ],
   "source": [
    "sentence5 = re.search(r'am', 'I am learning text analytics and am enjoying it')  \n",
    "print (sentence5)  \n",
    "\n",
    "#The output is similar with previous example even though there are two (2) 'am' in the string. \n",
    "#However, re.search( ) only returns the first occurrence of ‘am’ in the string"
   ]
  },
  {
   "cell_type": "markdown",
   "id": "494ec70b",
   "metadata": {},
   "source": [
    "### re.findall()\n",
    "#### find all of the occurrences of a pattern in a string"
   ]
  },
  {
   "cell_type": "code",
   "execution_count": 22,
   "id": "e8de3cd5",
   "metadata": {},
   "outputs": [
    {
     "name": "stdout",
     "output_type": "stream",
     "text": [
      "['am', 'am']\n"
     ]
    }
   ],
   "source": [
    "sentence6 = re.findall(r'am', 'I am learning text analytics and am enjoying it')  \n",
    "print (sentence6)\n",
    "\n",
    "#The output shows ['am', 'am'] because there are two (2) 'am' in the string "
   ]
  },
  {
   "cell_type": "markdown",
   "id": "17e1f55c",
   "metadata": {},
   "source": [
    "### re.split()\n",
    "#### split a string by the occurrence of a given pattern"
   ]
  },
  {
   "cell_type": "code",
   "execution_count": 24,
   "id": "2964590f",
   "metadata": {},
   "outputs": [
    {
     "name": "stdout",
     "output_type": "stream",
     "text": [
      "['I am learning text analytics ', ' am enjoying it']\n"
     ]
    }
   ],
   "source": [
    "sentence7 = re.split(r'and', 'I am learning text analytics and am enjoying it')  \n",
    "print (sentence7) \n",
    "\n",
    "#The string is split into two (2) by the pattern 'and'"
   ]
  },
  {
   "cell_type": "code",
   "execution_count": 26,
   "id": "dc7a4781",
   "metadata": {},
   "outputs": [
    {
     "name": "stdout",
     "output_type": "stream",
     "text": [
      "['I ', ' learning text analytics and ', ' enjoying it']\n"
     ]
    }
   ],
   "source": [
    "sentence8 = re.split(r'am', 'I am learning text analytics and am enjoying it')  \n",
    "print (sentence8)  \n",
    "\n",
    "#The string is split into three (3) by the pattern 'am'"
   ]
  },
  {
   "cell_type": "code",
   "execution_count": 28,
   "id": "f0935a8e",
   "metadata": {},
   "outputs": [
    {
     "name": "stdout",
     "output_type": "stream",
     "text": [
      "['I ', ' learning text analytics and am enjoying it']\n"
     ]
    }
   ],
   "source": [
    "sentence9 = re.split(r'am', 'I am learning text analytics and am enjoying it', maxsplit=1) \n",
    "print (sentence9)  \n",
    "\n",
    "# By including the argument maxsplit = 1 (default value is zero),\n",
    "# the string is split into two (2) by the first occurrence of 'am'"
   ]
  },
  {
   "cell_type": "code",
   "execution_count": 30,
   "id": "1ff518b8",
   "metadata": {},
   "outputs": [
    {
     "name": "stdout",
     "output_type": "stream",
     "text": [
      "['I ', ' learning text analytics and ', ' enjoying it']\n"
     ]
    }
   ],
   "source": [
    "sentence9 = re.split(r'am', 'I am learning text analytics and am enjoying it', maxsplit=2) \n",
    "print (sentence9)\n",
    "\n",
    "# By including the argument maxsplit = 2 (default value is zero), the string is split \n",
    "# into three (3) by the first two occurrences of 'am'"
   ]
  },
  {
   "cell_type": "code",
   "execution_count": 32,
   "id": "7e592287",
   "metadata": {},
   "outputs": [
    {
     "name": "stdout",
     "output_type": "stream",
     "text": [
      "['I ', ' learning text analytics, I ', ' enjoying it and I ', ' going to ace it']\n"
     ]
    }
   ],
   "source": [
    "sentence10 = re.split(r'am', 'I am learning text analytics, I am enjoying it and I am going to ace it', maxsplit=3) \n",
    "print (sentence10)  \n",
    "\n",
    "#By including the argument maxsplit = 3 (default value is zero), the string is split into four (4)\n",
    "#by the first three occurrences of 'am'"
   ]
  },
  {
   "cell_type": "markdown",
   "id": "ef9c25b8",
   "metadata": {},
   "source": [
    "### re.sub()\n",
    "#### find the occurrence of a given pattern in a string and replace with a new value"
   ]
  },
  {
   "cell_type": "code",
   "execution_count": 35,
   "id": "0c88cdbd",
   "metadata": {},
   "outputs": [
    {
     "name": "stdout",
     "output_type": "stream",
     "text": [
      "we like text analytics and we enjoy learning it\n"
     ]
    }
   ],
   "source": [
    "sentence11 = re.sub(r'I', 'we', 'I like text analytics and I enjoy learning it') \n",
    "print (sentence11)  \n",
    "\n",
    "#The word ' I ' is changed to 'we' and are replaced in two (2) occurrences"
   ]
  },
  {
   "cell_type": "markdown",
   "id": "24799ad3",
   "metadata": {},
   "source": [
    "### Metacharacter \n",
    "#### specifying a set of characters to be matched"
   ]
  },
  {
   "cell_type": "code",
   "execution_count": 37,
   "id": "35f956ae",
   "metadata": {},
   "outputs": [
    {
     "name": "stdout",
     "output_type": "stream",
     "text": [
      "['I', ' ', 'a', 'm', ' ', 'l', 'e', 'a', 'r', 'n', 'i', 'n', 'g', ' ', 't', 'e', 'x', 't', ' ', 'a', 'n', 'a', 'l', 'y', 't', 'i', 'c', 's']\n"
     ]
    }
   ],
   "source": [
    "sentence1 = re.findall (r'.', 'I am learning text analytics') \n",
    "print (sentence1) \n",
    " \n",
    "# '•' Find any characters in a string (including spaces) except new line\n",
    "# Return 28 characters (including spaces)"
   ]
  },
  {
   "cell_type": "code",
   "execution_count": 41,
   "id": "fe2417a6",
   "metadata": {},
   "outputs": [
    {
     "name": "stdout",
     "output_type": "stream",
     "text": [
      "['I', 'a', 'm', 'l', 'e', 'a', 'r', 'n', 'i', 'n', 'g', 't', 'e', 'x', 't', 'a', 'n', 'a', 'l', 'y', 't', 'i', 'c', 's']\n"
     ]
    }
   ],
   "source": [
    "sentence2 = re.findall (r'\\w', 'I am learning text analytics') \n",
    "print (sentence2) \n",
    " \n",
    "# '\\w' finds any single character in a string (excluding spaces) except new line and spaces \n",
    "# Return 24 characters (including spaces)"
   ]
  },
  {
   "cell_type": "code",
   "execution_count": 42,
   "id": "783191bb",
   "metadata": {},
   "outputs": [
    {
     "name": "stdout",
     "output_type": "stream",
     "text": [
      "['I', '', 'am', '', 'learning', '', 'text', '', 'analytics', '']\n"
     ]
    }
   ],
   "source": [
    "sentence3 = re.findall (r'\\w*', 'I am learning text analytics') \n",
    "print (sentence3) \n",
    " \n",
    "# '\\w*' Matches any characters with zero (0) or more characters in a string including spaces\n",
    "# Return the five (5) words plus spaces "
   ]
  },
  {
   "cell_type": "code",
   "execution_count": 45,
   "id": "008d7537",
   "metadata": {},
   "outputs": [
    {
     "name": "stdout",
     "output_type": "stream",
     "text": [
      "['I', 'am', 'learning', 'text', 'analytics']\n"
     ]
    }
   ],
   "source": [
    "sentence4 = re.findall (r'\\w+', 'I am learning text analytics') \n",
    "print (sentence4) \n",
    " \n",
    "# '\\w+' one (1) or more characters in a string excluding spaces\n",
    "# Return the five (5) words plus spaces "
   ]
  },
  {
   "cell_type": "code",
   "execution_count": 48,
   "id": "c5438892",
   "metadata": {},
   "outputs": [
    {
     "name": "stdout",
     "output_type": "stream",
     "text": [
      "['I']\n"
     ]
    }
   ],
   "source": [
    "sentence5 = re.findall (r'^\\w+', 'I am learning text analytics') \n",
    "print (sentence5) \n",
    " \n",
    "# '^\\w+' First word is selected  "
   ]
  },
  {
   "cell_type": "code",
   "execution_count": 52,
   "id": "776c6f50",
   "metadata": {},
   "outputs": [
    {
     "name": "stdout",
     "output_type": "stream",
     "text": [
      "['analytics']\n"
     ]
    }
   ],
   "source": [
    "sentence6 = re.findall (r'\\w+$', 'I am learning text analytics') \n",
    "print (sentence6) \n",
    " \n",
    "# The dollar ($) metacharacter matches the end of a string. It represents the end of a line or string.\n",
    "# Last word is selected  "
   ]
  },
  {
   "cell_type": "code",
   "execution_count": 53,
   "id": "89d1a158",
   "metadata": {},
   "outputs": [
    {
     "name": "stdout",
     "output_type": "stream",
     "text": [
      "['']\n"
     ]
    }
   ],
   "source": [
    "#now try change + to * and put white spaces at the end of the string\n",
    "sentence6 = re.findall (r'\\w*$', 'I am learning text analytics ') \n",
    "print (sentence6) \n",
    "\n",
    "# the result is '' as it is the last character"
   ]
  },
  {
   "cell_type": "code",
   "execution_count": 55,
   "id": "0f3a9740",
   "metadata": {},
   "outputs": [
    {
     "name": "stdout",
     "output_type": "stream",
     "text": [
      "['am', 'le', 'ar', 'ni', 'ng', 'te', 'xt', 'an', 'al', 'yt', 'ic']\n"
     ]
    }
   ],
   "source": [
    "sentence7 = re.findall (r'\\w\\w', 'I am learning text analytics') \n",
    "print (sentence7) \n",
    " \n",
    "# '\\w\\w' 2 consecutive characters are selected \n",
    "# ‘I’ is not selected because it only contains one character"
   ]
  },
  {
   "cell_type": "code",
   "execution_count": 71,
   "id": "5f0691b6",
   "metadata": {},
   "outputs": [
    {
     "name": "stdout",
     "output_type": "stream",
     "text": [
      "['am', 'le', 'te', 'an']\n"
     ]
    }
   ],
   "source": [
    "sentence8 = re.findall (r'\\b\\w\\w', 'I am learning text analytics') \n",
    "print (sentence8) \n",
    " \n",
    "# 2 consecutive characters in a string are selected \n"
   ]
  },
  {
   "cell_type": "markdown",
   "id": "f5d86bb9",
   "metadata": {},
   "source": [
    "### extracting domain name from email"
   ]
  },
  {
   "cell_type": "code",
   "execution_count": 82,
   "id": "4fad2290",
   "metadata": {},
   "outputs": [
    {
     "name": "stdout",
     "output_type": "stream",
     "text": [
      "['@text', '@analytics', '@textanalytics']\n"
     ]
    }
   ],
   "source": [
    "sentence9 = re.findall (r'@\\w+', 'user@text.com.my, user@analytics.gov.my, user@textanalytics.edu.my')\n",
    "print (sentence9) \n",
    " \n",
    "# Only the first word in the domain name is selected "
   ]
  },
  {
   "cell_type": "code",
   "execution_count": 83,
   "id": "aec569f9",
   "metadata": {},
   "outputs": [
    {
     "name": "stdout",
     "output_type": "stream",
     "text": [
      "['@text.com', '@analytics.gov', '@textanalytics.edu']\n"
     ]
    }
   ],
   "source": [
    "sentence10 = re.findall (r'@\\w+.\\w+','user@text.com.my, user@analytics.gov.my, user@textanalytics.edu.my')\n",
    "print (sentence10)\n"
   ]
  },
  {
   "cell_type": "code",
   "execution_count": 84,
   "id": "74031f50",
   "metadata": {},
   "outputs": [
    {
     "name": "stdout",
     "output_type": "stream",
     "text": [
      "['@text.com.my', '@analytics.gov.my', '@textanalytics.edu.my']\n"
     ]
    }
   ],
   "source": [
    "sentence11 = re.findall (r'@\\w+.\\w+.\\w+', 'user@text.com.my, user@analytics.gov.my, user@textanalytics.edu.my')\n",
    "print (sentence11) \n",
    " \n",
    "# The full domain name is selected "
   ]
  },
  {
   "cell_type": "code",
   "execution_count": 88,
   "id": "f1897c5f",
   "metadata": {},
   "outputs": [
    {
     "name": "stdout",
     "output_type": "stream",
     "text": [
      "['com.my', 'gov.my', 'edu.my']\n"
     ]
    }
   ],
   "source": [
    "sentence12 = re.findall (r'@\\w+.(\\w+.\\w+)', 'user@text.com.my, user@analytics.gov.my,  user@textanalytics.edu.my')\n",
    "print (sentence12) \n",
    " \n",
    "# To display the type of domain "
   ]
  },
  {
   "cell_type": "markdown",
   "id": "b7f4cd9f",
   "metadata": {},
   "source": [
    "### extracting date into dd-mm-yyyy format"
   ]
  },
  {
   "cell_type": "code",
   "execution_count": 89,
   "id": "d6117be9",
   "metadata": {},
   "outputs": [
    {
     "name": "stdout",
     "output_type": "stream",
     "text": [
      "['15-05-20', '20-08-20']\n"
     ]
    }
   ],
   "source": [
    "sentence13 = re.findall (r'\\d{2}-\\d{2}-\\d{2}', 'Ahmad BIT(IS) 15-05-2001, Johnny BCS(SE) 20-08-2000')\n",
    "print (sentence13) \n",
    " \n",
    "# To display the date in the format of dd-mm-yy "
   ]
  },
  {
   "cell_type": "code",
   "execution_count": 90,
   "id": "00fa6293",
   "metadata": {},
   "outputs": [
    {
     "name": "stdout",
     "output_type": "stream",
     "text": [
      "['15-05-2001', '20-08-2000']\n"
     ]
    }
   ],
   "source": [
    "sentence14 = re.findall (r'\\d{2}-\\d{2}-\\d{4}', 'Ahmad BIT(IS) 15-05-2001, Johnny BCS(SE) 20-08-2000')\n",
    "print (sentence14) \n",
    " \n",
    "# To display the date in the format of dd-mm-yyyy "
   ]
  },
  {
   "cell_type": "code",
   "execution_count": 91,
   "id": "2a5878af",
   "metadata": {},
   "outputs": [
    {
     "name": "stdout",
     "output_type": "stream",
     "text": [
      "['2001', '2000']\n"
     ]
    }
   ],
   "source": [
    "sentence15 = re.findall (r'\\d{2}-\\d{2}-(\\d{4})', 'Ahmad BIT(IS) 15-05-2001, Johnny BCS(SE) 20-08-2000')\n",
    "print (sentence15) \n",
    " \n",
    "# Only the year will be displayed "
   ]
  },
  {
   "cell_type": "markdown",
   "id": "b53b3711",
   "metadata": {},
   "source": [
    "### now take out the 2 digits from the yyyy date"
   ]
  },
  {
   "cell_type": "code",
   "execution_count": 92,
   "id": "c8703537",
   "metadata": {},
   "outputs": [
    {
     "name": "stdout",
     "output_type": "stream",
     "text": [
      "['01', '00']\n"
     ]
    }
   ],
   "source": [
    "#solution 1\n",
    "sentence15 = re.findall (r'\\d{2}-\\d{2}-\\d{2}(\\d{2})', 'Ahmad BIT(IS) 15-05-2001, Johnny BCS(SE) 20-08-2000')\n",
    "print (sentence15)"
   ]
  },
  {
   "cell_type": "code",
   "execution_count": 94,
   "id": "5f102278",
   "metadata": {},
   "outputs": [
    {
     "name": "stdout",
     "output_type": "stream",
     "text": [
      "['15-05-01', '20-08-00']\n"
     ]
    }
   ],
   "source": [
    "#solution 2\n",
    "from datetime import datetime\n",
    "\n",
    "sentence15 = re.findall(r'(\\d{2}-\\d{2}-\\d{4})','Ahmad BIT(IS) 15-05-2001, Johnny BCS(SE) 20-08-2000')\n",
    "formatted_dates = [datetime.strptime(match,'%d-%m-%Y').strftime('%d-%m-%y') for match in sentence15]\n",
    "print(formatted_dates)"
   ]
  },
  {
   "cell_type": "code",
   "execution_count": null,
   "id": "19e7dca1",
   "metadata": {},
   "outputs": [],
   "source": []
  }
 ],
 "metadata": {
  "kernelspec": {
   "display_name": "Python 3 (ipykernel)",
   "language": "python",
   "name": "python3"
  },
  "language_info": {
   "codemirror_mode": {
    "name": "ipython",
    "version": 3
   },
   "file_extension": ".py",
   "mimetype": "text/x-python",
   "name": "python",
   "nbconvert_exporter": "python",
   "pygments_lexer": "ipython3",
   "version": "3.11.5"
  }
 },
 "nbformat": 4,
 "nbformat_minor": 5
}
